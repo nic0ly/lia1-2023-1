{
  "metadata": {
    "kernelspec": {
      "language": "python",
      "display_name": "Python 3",
      "name": "python3"
    },
    "language_info": {
      "name": "python",
      "version": "3.10.12",
      "mimetype": "text/x-python",
      "codemirror_mode": {
        "name": "ipython",
        "version": 3
      },
      "pygments_lexer": "ipython3",
      "nbconvert_exporter": "python",
      "file_extension": ".py"
    },
    "colab": {
      "provenance": []
    }
  },
  "nbformat_minor": 0,
  "nbformat": 4,
  "cells": [
    {
      "cell_type": "code",
      "source": [
        "import os\n",
        "from pathlib import Path\n",
        "\n",
        "iskaggle = os.environ.get('KAGGLE_KERNEL_RUN_TYPE', '')\n",
        "if iskaggle: path = Path('../input/titanic')\n",
        "else:\n",
        "    path = Path('titanic')\n",
        "    if not path.exists():\n",
        "        import zipfile,kaggle\n",
        "        kaggle.api.competition_download_cli(str(path))\n",
        "        zipfile.ZipFile(f'{path}.zip').extractall(path)"
      ],
      "metadata": {
        "_uuid": "8f2839f25d086af736a60e9eeb907d3b93b6e0e5",
        "_cell_guid": "b1076dfc-b9ad-4769-8c92-a6c4dae69d19",
        "execution": {
          "iopub.status.busy": "2023-07-23T17:34:10.427176Z",
          "iopub.execute_input": "2023-07-23T17:34:10.427581Z",
          "iopub.status.idle": "2023-07-23T17:34:10.434561Z",
          "shell.execute_reply.started": "2023-07-23T17:34:10.427547Z",
          "shell.execute_reply": "2023-07-23T17:34:10.433151Z"
        },
        "trusted": true,
        "id": "3ztymtXf-ZJb"
      },
      "execution_count": null,
      "outputs": []
    },
    {
      "cell_type": "code",
      "source": [
        "import torch, numpy as np, pandas as pd\n",
        "np.set_printoptions(linewidth=140)\n",
        "torch.set_printoptions(linewidth=140, sci_mode=False, edgeitems=7)\n",
        "pd.set_option('display.width', 140)"
      ],
      "metadata": {
        "execution": {
          "iopub.status.busy": "2023-07-23T17:34:10.440911Z",
          "iopub.execute_input": "2023-07-23T17:34:10.441368Z",
          "iopub.status.idle": "2023-07-23T17:34:13.717570Z",
          "shell.execute_reply.started": "2023-07-23T17:34:10.441330Z",
          "shell.execute_reply": "2023-07-23T17:34:13.715916Z"
        },
        "trusted": true,
        "id": "9q8mAskk-ZJf"
      },
      "execution_count": null,
      "outputs": []
    },
    {
      "cell_type": "code",
      "source": [
        "df = pd.read_csv(path/'train.csv')\n",
        "df"
      ],
      "metadata": {
        "execution": {
          "iopub.status.busy": "2023-07-23T17:34:13.719934Z",
          "iopub.execute_input": "2023-07-23T17:34:13.720741Z",
          "iopub.status.idle": "2023-07-23T17:34:13.780607Z",
          "shell.execute_reply.started": "2023-07-23T17:34:13.720692Z",
          "shell.execute_reply": "2023-07-23T17:34:13.779237Z"
        },
        "trusted": true,
        "id": "VUZXXM-5-ZJf",
        "outputId": "de461ee7-754d-4120-e19d-391f153392ec"
      },
      "execution_count": null,
      "outputs": [
        {
          "execution_count": 4,
          "output_type": "execute_result",
          "data": {
            "text/plain": "     PassengerId  Survived  Pclass                                               Name     Sex   Age  SibSp  Parch            Ticket  \\\n0              1         0       3                            Braund, Mr. Owen Harris    male  22.0      1      0         A/5 21171   \n1              2         1       1  Cumings, Mrs. John Bradley (Florence Briggs Th...  female  38.0      1      0          PC 17599   \n2              3         1       3                             Heikkinen, Miss. Laina  female  26.0      0      0  STON/O2. 3101282   \n3              4         1       1       Futrelle, Mrs. Jacques Heath (Lily May Peel)  female  35.0      1      0            113803   \n4              5         0       3                           Allen, Mr. William Henry    male  35.0      0      0            373450   \n..           ...       ...     ...                                                ...     ...   ...    ...    ...               ...   \n886          887         0       2                              Montvila, Rev. Juozas    male  27.0      0      0            211536   \n887          888         1       1                       Graham, Miss. Margaret Edith  female  19.0      0      0            112053   \n888          889         0       3           Johnston, Miss. Catherine Helen \"Carrie\"  female   NaN      1      2        W./C. 6607   \n889          890         1       1                              Behr, Mr. Karl Howell    male  26.0      0      0            111369   \n890          891         0       3                                Dooley, Mr. Patrick    male  32.0      0      0            370376   \n\n        Fare Cabin Embarked  \n0     7.2500   NaN        S  \n1    71.2833   C85        C  \n2     7.9250   NaN        S  \n3    53.1000  C123        S  \n4     8.0500   NaN        S  \n..       ...   ...      ...  \n886  13.0000   NaN        S  \n887  30.0000   B42        S  \n888  23.4500   NaN        S  \n889  30.0000  C148        C  \n890   7.7500   NaN        Q  \n\n[891 rows x 12 columns]",
            "text/html": "<div>\n<style scoped>\n    .dataframe tbody tr th:only-of-type {\n        vertical-align: middle;\n    }\n\n    .dataframe tbody tr th {\n        vertical-align: top;\n    }\n\n    .dataframe thead th {\n        text-align: right;\n    }\n</style>\n<table border=\"1\" class=\"dataframe\">\n  <thead>\n    <tr style=\"text-align: right;\">\n      <th></th>\n      <th>PassengerId</th>\n      <th>Survived</th>\n      <th>Pclass</th>\n      <th>Name</th>\n      <th>Sex</th>\n      <th>Age</th>\n      <th>SibSp</th>\n      <th>Parch</th>\n      <th>Ticket</th>\n      <th>Fare</th>\n      <th>Cabin</th>\n      <th>Embarked</th>\n    </tr>\n  </thead>\n  <tbody>\n    <tr>\n      <th>0</th>\n      <td>1</td>\n      <td>0</td>\n      <td>3</td>\n      <td>Braund, Mr. Owen Harris</td>\n      <td>male</td>\n      <td>22.0</td>\n      <td>1</td>\n      <td>0</td>\n      <td>A/5 21171</td>\n      <td>7.2500</td>\n      <td>NaN</td>\n      <td>S</td>\n    </tr>\n    <tr>\n      <th>1</th>\n      <td>2</td>\n      <td>1</td>\n      <td>1</td>\n      <td>Cumings, Mrs. John Bradley (Florence Briggs Th...</td>\n      <td>female</td>\n      <td>38.0</td>\n      <td>1</td>\n      <td>0</td>\n      <td>PC 17599</td>\n      <td>71.2833</td>\n      <td>C85</td>\n      <td>C</td>\n    </tr>\n    <tr>\n      <th>2</th>\n      <td>3</td>\n      <td>1</td>\n      <td>3</td>\n      <td>Heikkinen, Miss. Laina</td>\n      <td>female</td>\n      <td>26.0</td>\n      <td>0</td>\n      <td>0</td>\n      <td>STON/O2. 3101282</td>\n      <td>7.9250</td>\n      <td>NaN</td>\n      <td>S</td>\n    </tr>\n    <tr>\n      <th>3</th>\n      <td>4</td>\n      <td>1</td>\n      <td>1</td>\n      <td>Futrelle, Mrs. Jacques Heath (Lily May Peel)</td>\n      <td>female</td>\n      <td>35.0</td>\n      <td>1</td>\n      <td>0</td>\n      <td>113803</td>\n      <td>53.1000</td>\n      <td>C123</td>\n      <td>S</td>\n    </tr>\n    <tr>\n      <th>4</th>\n      <td>5</td>\n      <td>0</td>\n      <td>3</td>\n      <td>Allen, Mr. William Henry</td>\n      <td>male</td>\n      <td>35.0</td>\n      <td>0</td>\n      <td>0</td>\n      <td>373450</td>\n      <td>8.0500</td>\n      <td>NaN</td>\n      <td>S</td>\n    </tr>\n    <tr>\n      <th>...</th>\n      <td>...</td>\n      <td>...</td>\n      <td>...</td>\n      <td>...</td>\n      <td>...</td>\n      <td>...</td>\n      <td>...</td>\n      <td>...</td>\n      <td>...</td>\n      <td>...</td>\n      <td>...</td>\n      <td>...</td>\n    </tr>\n    <tr>\n      <th>886</th>\n      <td>887</td>\n      <td>0</td>\n      <td>2</td>\n      <td>Montvila, Rev. Juozas</td>\n      <td>male</td>\n      <td>27.0</td>\n      <td>0</td>\n      <td>0</td>\n      <td>211536</td>\n      <td>13.0000</td>\n      <td>NaN</td>\n      <td>S</td>\n    </tr>\n    <tr>\n      <th>887</th>\n      <td>888</td>\n      <td>1</td>\n      <td>1</td>\n      <td>Graham, Miss. Margaret Edith</td>\n      <td>female</td>\n      <td>19.0</td>\n      <td>0</td>\n      <td>0</td>\n      <td>112053</td>\n      <td>30.0000</td>\n      <td>B42</td>\n      <td>S</td>\n    </tr>\n    <tr>\n      <th>888</th>\n      <td>889</td>\n      <td>0</td>\n      <td>3</td>\n      <td>Johnston, Miss. Catherine Helen \"Carrie\"</td>\n      <td>female</td>\n      <td>NaN</td>\n      <td>1</td>\n      <td>2</td>\n      <td>W./C. 6607</td>\n      <td>23.4500</td>\n      <td>NaN</td>\n      <td>S</td>\n    </tr>\n    <tr>\n      <th>889</th>\n      <td>890</td>\n      <td>1</td>\n      <td>1</td>\n      <td>Behr, Mr. Karl Howell</td>\n      <td>male</td>\n      <td>26.0</td>\n      <td>0</td>\n      <td>0</td>\n      <td>111369</td>\n      <td>30.0000</td>\n      <td>C148</td>\n      <td>C</td>\n    </tr>\n    <tr>\n      <th>890</th>\n      <td>891</td>\n      <td>0</td>\n      <td>3</td>\n      <td>Dooley, Mr. Patrick</td>\n      <td>male</td>\n      <td>32.0</td>\n      <td>0</td>\n      <td>0</td>\n      <td>370376</td>\n      <td>7.7500</td>\n      <td>NaN</td>\n      <td>Q</td>\n    </tr>\n  </tbody>\n</table>\n<p>891 rows × 12 columns</p>\n</div>"
          },
          "metadata": {}
        }
      ]
    },
    {
      "cell_type": "code",
      "source": [
        "import os\n",
        "from pathlib import Path\n",
        "\n",
        "iskaggle = os.environ.get('KAGGLE_KERNEL_RUN_TYPE', '')\n",
        "if iskaggle: path = Path('../input/titanic')\n",
        "else:\n",
        "    path = Path('titanic')\n",
        "    if not path.exists():\n",
        "        import zipfile,kaggle\n",
        "        kaggle.api.competition_download_cli(str(path))\n",
        "        zipfile.ZipFile(f'{path}.zip').extractall(path)"
      ],
      "metadata": {
        "execution": {
          "iopub.status.busy": "2023-07-23T17:34:13.782436Z",
          "iopub.execute_input": "2023-07-23T17:34:13.782898Z",
          "iopub.status.idle": "2023-07-23T17:34:13.791137Z",
          "shell.execute_reply.started": "2023-07-23T17:34:13.782855Z",
          "shell.execute_reply": "2023-07-23T17:34:13.789812Z"
        },
        "trusted": true,
        "id": "3ixhK0we-ZJg"
      },
      "execution_count": null,
      "outputs": []
    },
    {
      "cell_type": "code",
      "source": [
        "import torch, numpy as np, pandas as pd\n",
        "np.set_printoptions(linewidth=140)\n",
        "torch.set_printoptions(linewidth=140, sci_mode=False, edgeitems=7)\n",
        "pd.set_option('display.width', 140)"
      ],
      "metadata": {
        "execution": {
          "iopub.status.busy": "2023-07-23T17:34:13.793925Z",
          "iopub.execute_input": "2023-07-23T17:34:13.794288Z",
          "iopub.status.idle": "2023-07-23T17:34:13.806003Z",
          "shell.execute_reply.started": "2023-07-23T17:34:13.794259Z",
          "shell.execute_reply": "2023-07-23T17:34:13.804775Z"
        },
        "trusted": true,
        "id": "JXdw_wj9-ZJh"
      },
      "execution_count": null,
      "outputs": []
    },
    {
      "cell_type": "code",
      "source": [
        "df = pd.read_csv(path/'train.csv')\n",
        "df"
      ],
      "metadata": {
        "execution": {
          "iopub.status.busy": "2023-07-23T17:34:13.807836Z",
          "iopub.execute_input": "2023-07-23T17:34:13.808209Z",
          "iopub.status.idle": "2023-07-23T17:34:13.846951Z",
          "shell.execute_reply.started": "2023-07-23T17:34:13.808176Z",
          "shell.execute_reply": "2023-07-23T17:34:13.845701Z"
        },
        "trusted": true,
        "id": "LPn5-leL-ZJh",
        "outputId": "ce63e814-3ae0-4da7-be12-48768897d594"
      },
      "execution_count": null,
      "outputs": [
        {
          "execution_count": 7,
          "output_type": "execute_result",
          "data": {
            "text/plain": "     PassengerId  Survived  Pclass                                               Name     Sex   Age  SibSp  Parch            Ticket  \\\n0              1         0       3                            Braund, Mr. Owen Harris    male  22.0      1      0         A/5 21171   \n1              2         1       1  Cumings, Mrs. John Bradley (Florence Briggs Th...  female  38.0      1      0          PC 17599   \n2              3         1       3                             Heikkinen, Miss. Laina  female  26.0      0      0  STON/O2. 3101282   \n3              4         1       1       Futrelle, Mrs. Jacques Heath (Lily May Peel)  female  35.0      1      0            113803   \n4              5         0       3                           Allen, Mr. William Henry    male  35.0      0      0            373450   \n..           ...       ...     ...                                                ...     ...   ...    ...    ...               ...   \n886          887         0       2                              Montvila, Rev. Juozas    male  27.0      0      0            211536   \n887          888         1       1                       Graham, Miss. Margaret Edith  female  19.0      0      0            112053   \n888          889         0       3           Johnston, Miss. Catherine Helen \"Carrie\"  female   NaN      1      2        W./C. 6607   \n889          890         1       1                              Behr, Mr. Karl Howell    male  26.0      0      0            111369   \n890          891         0       3                                Dooley, Mr. Patrick    male  32.0      0      0            370376   \n\n        Fare Cabin Embarked  \n0     7.2500   NaN        S  \n1    71.2833   C85        C  \n2     7.9250   NaN        S  \n3    53.1000  C123        S  \n4     8.0500   NaN        S  \n..       ...   ...      ...  \n886  13.0000   NaN        S  \n887  30.0000   B42        S  \n888  23.4500   NaN        S  \n889  30.0000  C148        C  \n890   7.7500   NaN        Q  \n\n[891 rows x 12 columns]",
            "text/html": "<div>\n<style scoped>\n    .dataframe tbody tr th:only-of-type {\n        vertical-align: middle;\n    }\n\n    .dataframe tbody tr th {\n        vertical-align: top;\n    }\n\n    .dataframe thead th {\n        text-align: right;\n    }\n</style>\n<table border=\"1\" class=\"dataframe\">\n  <thead>\n    <tr style=\"text-align: right;\">\n      <th></th>\n      <th>PassengerId</th>\n      <th>Survived</th>\n      <th>Pclass</th>\n      <th>Name</th>\n      <th>Sex</th>\n      <th>Age</th>\n      <th>SibSp</th>\n      <th>Parch</th>\n      <th>Ticket</th>\n      <th>Fare</th>\n      <th>Cabin</th>\n      <th>Embarked</th>\n    </tr>\n  </thead>\n  <tbody>\n    <tr>\n      <th>0</th>\n      <td>1</td>\n      <td>0</td>\n      <td>3</td>\n      <td>Braund, Mr. Owen Harris</td>\n      <td>male</td>\n      <td>22.0</td>\n      <td>1</td>\n      <td>0</td>\n      <td>A/5 21171</td>\n      <td>7.2500</td>\n      <td>NaN</td>\n      <td>S</td>\n    </tr>\n    <tr>\n      <th>1</th>\n      <td>2</td>\n      <td>1</td>\n      <td>1</td>\n      <td>Cumings, Mrs. John Bradley (Florence Briggs Th...</td>\n      <td>female</td>\n      <td>38.0</td>\n      <td>1</td>\n      <td>0</td>\n      <td>PC 17599</td>\n      <td>71.2833</td>\n      <td>C85</td>\n      <td>C</td>\n    </tr>\n    <tr>\n      <th>2</th>\n      <td>3</td>\n      <td>1</td>\n      <td>3</td>\n      <td>Heikkinen, Miss. Laina</td>\n      <td>female</td>\n      <td>26.0</td>\n      <td>0</td>\n      <td>0</td>\n      <td>STON/O2. 3101282</td>\n      <td>7.9250</td>\n      <td>NaN</td>\n      <td>S</td>\n    </tr>\n    <tr>\n      <th>3</th>\n      <td>4</td>\n      <td>1</td>\n      <td>1</td>\n      <td>Futrelle, Mrs. Jacques Heath (Lily May Peel)</td>\n      <td>female</td>\n      <td>35.0</td>\n      <td>1</td>\n      <td>0</td>\n      <td>113803</td>\n      <td>53.1000</td>\n      <td>C123</td>\n      <td>S</td>\n    </tr>\n    <tr>\n      <th>4</th>\n      <td>5</td>\n      <td>0</td>\n      <td>3</td>\n      <td>Allen, Mr. William Henry</td>\n      <td>male</td>\n      <td>35.0</td>\n      <td>0</td>\n      <td>0</td>\n      <td>373450</td>\n      <td>8.0500</td>\n      <td>NaN</td>\n      <td>S</td>\n    </tr>\n    <tr>\n      <th>...</th>\n      <td>...</td>\n      <td>...</td>\n      <td>...</td>\n      <td>...</td>\n      <td>...</td>\n      <td>...</td>\n      <td>...</td>\n      <td>...</td>\n      <td>...</td>\n      <td>...</td>\n      <td>...</td>\n      <td>...</td>\n    </tr>\n    <tr>\n      <th>886</th>\n      <td>887</td>\n      <td>0</td>\n      <td>2</td>\n      <td>Montvila, Rev. Juozas</td>\n      <td>male</td>\n      <td>27.0</td>\n      <td>0</td>\n      <td>0</td>\n      <td>211536</td>\n      <td>13.0000</td>\n      <td>NaN</td>\n      <td>S</td>\n    </tr>\n    <tr>\n      <th>887</th>\n      <td>888</td>\n      <td>1</td>\n      <td>1</td>\n      <td>Graham, Miss. Margaret Edith</td>\n      <td>female</td>\n      <td>19.0</td>\n      <td>0</td>\n      <td>0</td>\n      <td>112053</td>\n      <td>30.0000</td>\n      <td>B42</td>\n      <td>S</td>\n    </tr>\n    <tr>\n      <th>888</th>\n      <td>889</td>\n      <td>0</td>\n      <td>3</td>\n      <td>Johnston, Miss. Catherine Helen \"Carrie\"</td>\n      <td>female</td>\n      <td>NaN</td>\n      <td>1</td>\n      <td>2</td>\n      <td>W./C. 6607</td>\n      <td>23.4500</td>\n      <td>NaN</td>\n      <td>S</td>\n    </tr>\n    <tr>\n      <th>889</th>\n      <td>890</td>\n      <td>1</td>\n      <td>1</td>\n      <td>Behr, Mr. Karl Howell</td>\n      <td>male</td>\n      <td>26.0</td>\n      <td>0</td>\n      <td>0</td>\n      <td>111369</td>\n      <td>30.0000</td>\n      <td>C148</td>\n      <td>C</td>\n    </tr>\n    <tr>\n      <th>890</th>\n      <td>891</td>\n      <td>0</td>\n      <td>3</td>\n      <td>Dooley, Mr. Patrick</td>\n      <td>male</td>\n      <td>32.0</td>\n      <td>0</td>\n      <td>0</td>\n      <td>370376</td>\n      <td>7.7500</td>\n      <td>NaN</td>\n      <td>Q</td>\n    </tr>\n  </tbody>\n</table>\n<p>891 rows × 12 columns</p>\n</div>"
          },
          "metadata": {}
        }
      ]
    },
    {
      "cell_type": "code",
      "source": [
        "df.isna().sum()"
      ],
      "metadata": {
        "execution": {
          "iopub.status.busy": "2023-07-23T17:34:13.848515Z",
          "iopub.execute_input": "2023-07-23T17:34:13.849657Z",
          "iopub.status.idle": "2023-07-23T17:34:13.861910Z",
          "shell.execute_reply.started": "2023-07-23T17:34:13.849596Z",
          "shell.execute_reply": "2023-07-23T17:34:13.860647Z"
        },
        "trusted": true,
        "id": "YnaxPNtC-ZJi",
        "outputId": "3f18c387-c118-49c5-fc62-322761002cca"
      },
      "execution_count": null,
      "outputs": [
        {
          "execution_count": 8,
          "output_type": "execute_result",
          "data": {
            "text/plain": "PassengerId      0\nSurvived         0\nPclass           0\nName             0\nSex              0\nAge            177\nSibSp            0\nParch            0\nTicket           0\nFare             0\nCabin          687\nEmbarked         2\ndtype: int64"
          },
          "metadata": {}
        }
      ]
    },
    {
      "cell_type": "code",
      "source": [
        "modes = df.mode().iloc[0]\n",
        "modes"
      ],
      "metadata": {
        "execution": {
          "iopub.status.busy": "2023-07-23T17:34:13.863260Z",
          "iopub.execute_input": "2023-07-23T17:34:13.863667Z",
          "iopub.status.idle": "2023-07-23T17:34:13.887447Z",
          "shell.execute_reply.started": "2023-07-23T17:34:13.863621Z",
          "shell.execute_reply": "2023-07-23T17:34:13.886266Z"
        },
        "trusted": true,
        "id": "fSEnhpql-ZJi",
        "outputId": "81c96fae-4592-4cce-a723-3aef72cb0e5a"
      },
      "execution_count": null,
      "outputs": [
        {
          "execution_count": 9,
          "output_type": "execute_result",
          "data": {
            "text/plain": "PassengerId                      1\nSurvived                       0.0\nPclass                         3.0\nName           Abbing, Mr. Anthony\nSex                           male\nAge                           24.0\nSibSp                          0.0\nParch                          0.0\nTicket                        1601\nFare                          8.05\nCabin                      B96 B98\nEmbarked                         S\nName: 0, dtype: object"
          },
          "metadata": {}
        }
      ]
    },
    {
      "cell_type": "code",
      "source": [
        "df.fillna(modes, inplace=True)"
      ],
      "metadata": {
        "execution": {
          "iopub.status.busy": "2023-07-23T17:34:13.888952Z",
          "iopub.execute_input": "2023-07-23T17:34:13.889284Z",
          "iopub.status.idle": "2023-07-23T17:34:13.902065Z",
          "shell.execute_reply.started": "2023-07-23T17:34:13.889254Z",
          "shell.execute_reply": "2023-07-23T17:34:13.900855Z"
        },
        "trusted": true,
        "id": "ztYlPXjb-ZJj"
      },
      "execution_count": null,
      "outputs": []
    },
    {
      "cell_type": "code",
      "source": [
        "df.isna().sum()"
      ],
      "metadata": {
        "execution": {
          "iopub.status.busy": "2023-07-23T17:34:13.903439Z",
          "iopub.execute_input": "2023-07-23T17:34:13.904032Z",
          "iopub.status.idle": "2023-07-23T17:34:13.914105Z",
          "shell.execute_reply.started": "2023-07-23T17:34:13.904000Z",
          "shell.execute_reply": "2023-07-23T17:34:13.913272Z"
        },
        "trusted": true,
        "id": "7eerfdAj-ZJj",
        "outputId": "1d002e4c-691a-44ab-98a6-a2361143a240"
      },
      "execution_count": null,
      "outputs": [
        {
          "execution_count": 11,
          "output_type": "execute_result",
          "data": {
            "text/plain": "PassengerId    0\nSurvived       0\nPclass         0\nName           0\nSex            0\nAge            0\nSibSp          0\nParch          0\nTicket         0\nFare           0\nCabin          0\nEmbarked       0\ndtype: int64"
          },
          "metadata": {}
        }
      ]
    },
    {
      "cell_type": "code",
      "source": [
        "import numpy as np\n",
        "\n",
        "df.describe(include=(np.number))"
      ],
      "metadata": {
        "execution": {
          "iopub.status.busy": "2023-07-23T17:34:13.918146Z",
          "iopub.execute_input": "2023-07-23T17:34:13.918767Z",
          "iopub.status.idle": "2023-07-23T17:34:13.957429Z",
          "shell.execute_reply.started": "2023-07-23T17:34:13.918734Z",
          "shell.execute_reply": "2023-07-23T17:34:13.956279Z"
        },
        "trusted": true,
        "id": "cywJq8l2-ZJk",
        "outputId": "357f6b78-a38a-46df-b024-a68695083e2c"
      },
      "execution_count": null,
      "outputs": [
        {
          "execution_count": 12,
          "output_type": "execute_result",
          "data": {
            "text/plain": "       PassengerId    Survived      Pclass         Age       SibSp       Parch        Fare\ncount   891.000000  891.000000  891.000000  891.000000  891.000000  891.000000  891.000000\nmean    446.000000    0.383838    2.308642   28.566970    0.523008    0.381594   32.204208\nstd     257.353842    0.486592    0.836071   13.199572    1.102743    0.806057   49.693429\nmin       1.000000    0.000000    1.000000    0.420000    0.000000    0.000000    0.000000\n25%     223.500000    0.000000    2.000000   22.000000    0.000000    0.000000    7.910400\n50%     446.000000    0.000000    3.000000   24.000000    0.000000    0.000000   14.454200\n75%     668.500000    1.000000    3.000000   35.000000    1.000000    0.000000   31.000000\nmax     891.000000    1.000000    3.000000   80.000000    8.000000    6.000000  512.329200",
            "text/html": "<div>\n<style scoped>\n    .dataframe tbody tr th:only-of-type {\n        vertical-align: middle;\n    }\n\n    .dataframe tbody tr th {\n        vertical-align: top;\n    }\n\n    .dataframe thead th {\n        text-align: right;\n    }\n</style>\n<table border=\"1\" class=\"dataframe\">\n  <thead>\n    <tr style=\"text-align: right;\">\n      <th></th>\n      <th>PassengerId</th>\n      <th>Survived</th>\n      <th>Pclass</th>\n      <th>Age</th>\n      <th>SibSp</th>\n      <th>Parch</th>\n      <th>Fare</th>\n    </tr>\n  </thead>\n  <tbody>\n    <tr>\n      <th>count</th>\n      <td>891.000000</td>\n      <td>891.000000</td>\n      <td>891.000000</td>\n      <td>891.000000</td>\n      <td>891.000000</td>\n      <td>891.000000</td>\n      <td>891.000000</td>\n    </tr>\n    <tr>\n      <th>mean</th>\n      <td>446.000000</td>\n      <td>0.383838</td>\n      <td>2.308642</td>\n      <td>28.566970</td>\n      <td>0.523008</td>\n      <td>0.381594</td>\n      <td>32.204208</td>\n    </tr>\n    <tr>\n      <th>std</th>\n      <td>257.353842</td>\n      <td>0.486592</td>\n      <td>0.836071</td>\n      <td>13.199572</td>\n      <td>1.102743</td>\n      <td>0.806057</td>\n      <td>49.693429</td>\n    </tr>\n    <tr>\n      <th>min</th>\n      <td>1.000000</td>\n      <td>0.000000</td>\n      <td>1.000000</td>\n      <td>0.420000</td>\n      <td>0.000000</td>\n      <td>0.000000</td>\n      <td>0.000000</td>\n    </tr>\n    <tr>\n      <th>25%</th>\n      <td>223.500000</td>\n      <td>0.000000</td>\n      <td>2.000000</td>\n      <td>22.000000</td>\n      <td>0.000000</td>\n      <td>0.000000</td>\n      <td>7.910400</td>\n    </tr>\n    <tr>\n      <th>50%</th>\n      <td>446.000000</td>\n      <td>0.000000</td>\n      <td>3.000000</td>\n      <td>24.000000</td>\n      <td>0.000000</td>\n      <td>0.000000</td>\n      <td>14.454200</td>\n    </tr>\n    <tr>\n      <th>75%</th>\n      <td>668.500000</td>\n      <td>1.000000</td>\n      <td>3.000000</td>\n      <td>35.000000</td>\n      <td>1.000000</td>\n      <td>0.000000</td>\n      <td>31.000000</td>\n    </tr>\n    <tr>\n      <th>max</th>\n      <td>891.000000</td>\n      <td>1.000000</td>\n      <td>3.000000</td>\n      <td>80.000000</td>\n      <td>8.000000</td>\n      <td>6.000000</td>\n      <td>512.329200</td>\n    </tr>\n  </tbody>\n</table>\n</div>"
          },
          "metadata": {}
        }
      ]
    },
    {
      "cell_type": "code",
      "source": [
        "df['Fare'].hist();"
      ],
      "metadata": {
        "execution": {
          "iopub.status.busy": "2023-07-23T17:34:13.959107Z",
          "iopub.execute_input": "2023-07-23T17:34:13.959550Z",
          "iopub.status.idle": "2023-07-23T17:34:14.309796Z",
          "shell.execute_reply.started": "2023-07-23T17:34:13.959509Z",
          "shell.execute_reply": "2023-07-23T17:34:14.306248Z"
        },
        "trusted": true,
        "id": "N_DXrB_1-ZJk",
        "outputId": "2549aed5-a6d8-4023-81e7-a9b26d908613"
      },
      "execution_count": null,
      "outputs": [
        {
          "output_type": "display_data",
          "data": {
            "text/plain": "<Figure size 640x480 with 1 Axes>",
            "image/png": "[encoded data removed]"
          },
          "metadata": {}
        }
      ]
    },
    {
      "cell_type": "code",
      "source": [
        "df['LogFare'] = np.log(df['Fare']+1)"
      ],
      "metadata": {
        "execution": {
          "iopub.status.busy": "2023-07-23T17:34:14.311662Z",
          "iopub.execute_input": "2023-07-23T17:34:14.312131Z",
          "iopub.status.idle": "2023-07-23T17:34:14.318534Z",
          "shell.execute_reply.started": "2023-07-23T17:34:14.312094Z",
          "shell.execute_reply": "2023-07-23T17:34:14.317599Z"
        },
        "trusted": true,
        "id": "yGM2PXDE-ZJk"
      },
      "execution_count": null,
      "outputs": []
    },
    {
      "cell_type": "code",
      "source": [
        "df['LogFare'].hist();"
      ],
      "metadata": {
        "execution": {
          "iopub.status.busy": "2023-07-23T17:34:14.320082Z",
          "iopub.execute_input": "2023-07-23T17:34:14.320513Z",
          "iopub.status.idle": "2023-07-23T17:34:14.838731Z",
          "shell.execute_reply.started": "2023-07-23T17:34:14.320480Z",
          "shell.execute_reply": "2023-07-23T17:34:14.837365Z"
        },
        "trusted": true,
        "id": "eonWuhnW-ZJk",
        "outputId": "69bbfb17-4e92-4c12-d31a-d900e080eeea"
      },
      "execution_count": null,
      "outputs": [
        {
          "output_type": "display_data",
          "data": {
            "text/plain": "<Figure size 640x480 with 1 Axes>",
            "image/png": "[encoded data removed]"
          },
          "metadata": {}
        }
      ]
    },
    {
      "cell_type": "code",
      "source": [
        "pclasses = sorted(df.Pclass.unique())\n",
        "pclasses"
      ],
      "metadata": {
        "execution": {
          "iopub.status.busy": "2023-07-23T17:34:14.840142Z",
          "iopub.execute_input": "2023-07-23T17:34:14.840498Z",
          "iopub.status.idle": "2023-07-23T17:34:14.849283Z",
          "shell.execute_reply.started": "2023-07-23T17:34:14.840468Z",
          "shell.execute_reply": "2023-07-23T17:34:14.848385Z"
        },
        "trusted": true,
        "id": "FWhRP26L-ZJl",
        "outputId": "bc9c0887-2f84-4ecc-b531-84927cbfb9bc"
      },
      "execution_count": null,
      "outputs": [
        {
          "execution_count": 16,
          "output_type": "execute_result",
          "data": {
            "text/plain": "[1, 2, 3]"
          },
          "metadata": {}
        }
      ]
    },
    {
      "cell_type": "code",
      "source": [
        "df.describe(include=[object])"
      ],
      "metadata": {
        "execution": {
          "iopub.status.busy": "2023-07-23T17:34:14.850627Z",
          "iopub.execute_input": "2023-07-23T17:34:14.851754Z",
          "iopub.status.idle": "2023-07-23T17:34:14.888000Z",
          "shell.execute_reply.started": "2023-07-23T17:34:14.851712Z",
          "shell.execute_reply": "2023-07-23T17:34:14.886991Z"
        },
        "trusted": true,
        "id": "qAGWcHF1-ZJl",
        "outputId": "5f488852-66b6-4c81-b298-eafedcf08b67"
      },
      "execution_count": null,
      "outputs": [
        {
          "execution_count": 17,
          "output_type": "execute_result",
          "data": {
            "text/plain": "                           Name   Sex  Ticket    Cabin Embarked\ncount                       891   891     891      891      891\nunique                      891     2     681      147        3\ntop     Braund, Mr. Owen Harris  male  347082  B96 B98        S\nfreq                          1   577       7      691      646",
            "text/html": "<div>\n<style scoped>\n    .dataframe tbody tr th:only-of-type {\n        vertical-align: middle;\n    }\n\n    .dataframe tbody tr th {\n        vertical-align: top;\n    }\n\n    .dataframe thead th {\n        text-align: right;\n    }\n</style>\n<table border=\"1\" class=\"dataframe\">\n  <thead>\n    <tr style=\"text-align: right;\">\n      <th></th>\n      <th>Name</th>\n      <th>Sex</th>\n      <th>Ticket</th>\n      <th>Cabin</th>\n      <th>Embarked</th>\n    </tr>\n  </thead>\n  <tbody>\n    <tr>\n      <th>count</th>\n      <td>891</td>\n      <td>891</td>\n      <td>891</td>\n      <td>891</td>\n      <td>891</td>\n    </tr>\n    <tr>\n      <th>unique</th>\n      <td>891</td>\n      <td>2</td>\n      <td>681</td>\n      <td>147</td>\n      <td>3</td>\n    </tr>\n    <tr>\n      <th>top</th>\n      <td>Braund, Mr. Owen Harris</td>\n      <td>male</td>\n      <td>347082</td>\n      <td>B96 B98</td>\n      <td>S</td>\n    </tr>\n    <tr>\n      <th>freq</th>\n      <td>1</td>\n      <td>577</td>\n      <td>7</td>\n      <td>691</td>\n      <td>646</td>\n    </tr>\n  </tbody>\n</table>\n</div>"
          },
          "metadata": {}
        }
      ]
    },
    {
      "cell_type": "code",
      "source": [
        "df = pd.get_dummies(df, columns=[\"Sex\",\"Pclass\",\"Embarked\"])\n",
        "df.columns"
      ],
      "metadata": {
        "execution": {
          "iopub.status.busy": "2023-07-23T17:34:14.889307Z",
          "iopub.execute_input": "2023-07-23T17:34:14.889640Z",
          "iopub.status.idle": "2023-07-23T17:34:14.908424Z",
          "shell.execute_reply.started": "2023-07-23T17:34:14.889611Z",
          "shell.execute_reply": "2023-07-23T17:34:14.907158Z"
        },
        "trusted": true,
        "id": "pw5lDR3z-ZJl",
        "outputId": "c3e8b7b8-0b2f-4e13-d813-e7c137074b88"
      },
      "execution_count": null,
      "outputs": [
        {
          "execution_count": 18,
          "output_type": "execute_result",
          "data": {
            "text/plain": "Index(['PassengerId', 'Survived', 'Name', 'Age', 'SibSp', 'Parch', 'Ticket', 'Fare', 'Cabin', 'LogFare', 'Sex_female', 'Sex_male',\n       'Pclass_1', 'Pclass_2', 'Pclass_3', 'Embarked_C', 'Embarked_Q', 'Embarked_S'],\n      dtype='object')"
          },
          "metadata": {}
        }
      ]
    },
    {
      "cell_type": "code",
      "source": [
        "added_cols = ['Sex_male', 'Sex_female', 'Pclass_1', 'Pclass_2', 'Pclass_3', 'Embarked_C', 'Embarked_Q', 'Embarked_S']\n",
        "df[added_cols].head()"
      ],
      "metadata": {
        "execution": {
          "iopub.status.busy": "2023-07-23T17:34:14.909804Z",
          "iopub.execute_input": "2023-07-23T17:34:14.910139Z",
          "iopub.status.idle": "2023-07-23T17:34:14.927404Z",
          "shell.execute_reply.started": "2023-07-23T17:34:14.910108Z",
          "shell.execute_reply": "2023-07-23T17:34:14.926022Z"
        },
        "trusted": true,
        "id": "kP91AM0K-ZJl",
        "outputId": "d8077bc3-44a4-4599-875c-7e28b0d21961"
      },
      "execution_count": null,
      "outputs": [
        {
          "execution_count": 19,
          "output_type": "execute_result",
          "data": {
            "text/plain": "   Sex_male  Sex_female  Pclass_1  Pclass_2  Pclass_3  Embarked_C  Embarked_Q  Embarked_S\n0         1           0         0         0         1           0           0           1\n1         0           1         1         0         0           1           0           0\n2         0           1         0         0         1           0           0           1\n3         0           1         1         0         0           0           0           1\n4         1           0         0         0         1           0           0           1",
            "text/html": "<div>\n<style scoped>\n    .dataframe tbody tr th:only-of-type {\n        vertical-align: middle;\n    }\n\n    .dataframe tbody tr th {\n        vertical-align: top;\n    }\n\n    .dataframe thead th {\n        text-align: right;\n    }\n</style>\n<table border=\"1\" class=\"dataframe\">\n  <thead>\n    <tr style=\"text-align: right;\">\n      <th></th>\n      <th>Sex_male</th>\n      <th>Sex_female</th>\n      <th>Pclass_1</th>\n      <th>Pclass_2</th>\n      <th>Pclass_3</th>\n      <th>Embarked_C</th>\n      <th>Embarked_Q</th>\n      <th>Embarked_S</th>\n    </tr>\n  </thead>\n  <tbody>\n    <tr>\n      <th>0</th>\n      <td>1</td>\n      <td>0</td>\n      <td>0</td>\n      <td>0</td>\n      <td>1</td>\n      <td>0</td>\n      <td>0</td>\n      <td>1</td>\n    </tr>\n    <tr>\n      <th>1</th>\n      <td>0</td>\n      <td>1</td>\n      <td>1</td>\n      <td>0</td>\n      <td>0</td>\n      <td>1</td>\n      <td>0</td>\n      <td>0</td>\n    </tr>\n    <tr>\n      <th>2</th>\n      <td>0</td>\n      <td>1</td>\n      <td>0</td>\n      <td>0</td>\n      <td>1</td>\n      <td>0</td>\n      <td>0</td>\n      <td>1</td>\n    </tr>\n    <tr>\n      <th>3</th>\n      <td>0</td>\n      <td>1</td>\n      <td>1</td>\n      <td>0</td>\n      <td>0</td>\n      <td>0</td>\n      <td>0</td>\n      <td>1</td>\n    </tr>\n    <tr>\n      <th>4</th>\n      <td>1</td>\n      <td>0</td>\n      <td>0</td>\n      <td>0</td>\n      <td>1</td>\n      <td>0</td>\n      <td>0</td>\n      <td>1</td>\n    </tr>\n  </tbody>\n</table>\n</div>"
          },
          "metadata": {}
        }
      ]
    },
    {
      "cell_type": "code",
      "source": [
        "from torch import tensor\n",
        "\n",
        "t_dep = tensor(df.Survived)"
      ],
      "metadata": {
        "execution": {
          "iopub.status.busy": "2023-07-23T17:34:14.929650Z",
          "iopub.execute_input": "2023-07-23T17:34:14.930186Z",
          "iopub.status.idle": "2023-07-23T17:34:14.958137Z",
          "shell.execute_reply.started": "2023-07-23T17:34:14.930144Z",
          "shell.execute_reply": "2023-07-23T17:34:14.956695Z"
        },
        "trusted": true,
        "id": "xdzxHM1a-ZJm"
      },
      "execution_count": null,
      "outputs": []
    },
    {
      "cell_type": "code",
      "source": [
        "indep_cols = ['Age', 'SibSp', 'Parch', 'LogFare'] + added_cols\n",
        "\n",
        "t_indep = tensor(df[indep_cols].values, dtype=torch.float)\n",
        "t_indep"
      ],
      "metadata": {
        "execution": {
          "iopub.status.busy": "2023-07-23T17:34:14.959476Z",
          "iopub.execute_input": "2023-07-23T17:34:14.960012Z",
          "iopub.status.idle": "2023-07-23T17:34:15.071368Z",
          "shell.execute_reply.started": "2023-07-23T17:34:14.959979Z",
          "shell.execute_reply": "2023-07-23T17:34:15.069897Z"
        },
        "trusted": true,
        "id": "u2VlHBk7-ZJm",
        "outputId": "42c5b434-741b-4938-955c-0a997ba62d53"
      },
      "execution_count": null,
      "outputs": [
        {
          "execution_count": 21,
          "output_type": "execute_result",
          "data": {
            "text/plain": "tensor([[22.0000,  1.0000,  0.0000,  2.1102,  1.0000,  0.0000,  0.0000,  0.0000,  1.0000,  0.0000,  0.0000,  1.0000],\n        [38.0000,  1.0000,  0.0000,  4.2806,  0.0000,  1.0000,  1.0000,  0.0000,  0.0000,  1.0000,  0.0000,  0.0000],\n        [26.0000,  0.0000,  0.0000,  2.1889,  0.0000,  1.0000,  0.0000,  0.0000,  1.0000,  0.0000,  0.0000,  1.0000],\n        [35.0000,  1.0000,  0.0000,  3.9908,  0.0000,  1.0000,  1.0000,  0.0000,  0.0000,  0.0000,  0.0000,  1.0000],\n        [35.0000,  0.0000,  0.0000,  2.2028,  1.0000,  0.0000,  0.0000,  0.0000,  1.0000,  0.0000,  0.0000,  1.0000],\n        [24.0000,  0.0000,  0.0000,  2.2469,  1.0000,  0.0000,  0.0000,  0.0000,  1.0000,  0.0000,  1.0000,  0.0000],\n        [54.0000,  0.0000,  0.0000,  3.9677,  1.0000,  0.0000,  1.0000,  0.0000,  0.0000,  0.0000,  0.0000,  1.0000],\n        ...,\n        [25.0000,  0.0000,  0.0000,  2.0857,  1.0000,  0.0000,  0.0000,  0.0000,  1.0000,  0.0000,  0.0000,  1.0000],\n        [39.0000,  0.0000,  5.0000,  3.4054,  0.0000,  1.0000,  0.0000,  0.0000,  1.0000,  0.0000,  1.0000,  0.0000],\n        [27.0000,  0.0000,  0.0000,  2.6391,  1.0000,  0.0000,  0.0000,  1.0000,  0.0000,  0.0000,  0.0000,  1.0000],\n        [19.0000,  0.0000,  0.0000,  3.4340,  0.0000,  1.0000,  1.0000,  0.0000,  0.0000,  0.0000,  0.0000,  1.0000],\n        [24.0000,  1.0000,  2.0000,  3.1966,  0.0000,  1.0000,  0.0000,  0.0000,  1.0000,  0.0000,  0.0000,  1.0000],\n        [26.0000,  0.0000,  0.0000,  3.4340,  1.0000,  0.0000,  1.0000,  0.0000,  0.0000,  1.0000,  0.0000,  0.0000],\n        [32.0000,  0.0000,  0.0000,  2.1691,  1.0000,  0.0000,  0.0000,  0.0000,  1.0000,  0.0000,  1.0000,  0.0000]])"
          },
          "metadata": {}
        }
      ]
    },
    {
      "cell_type": "code",
      "source": [
        "t_indep.shape"
      ],
      "metadata": {
        "execution": {
          "iopub.status.busy": "2023-07-23T17:34:15.072741Z",
          "iopub.execute_input": "2023-07-23T17:34:15.073093Z",
          "iopub.status.idle": "2023-07-23T17:34:15.079979Z",
          "shell.execute_reply.started": "2023-07-23T17:34:15.073057Z",
          "shell.execute_reply": "2023-07-23T17:34:15.078767Z"
        },
        "trusted": true,
        "id": "5-OxXaJ4-ZJm",
        "outputId": "1239bd85-34e4-4d3d-970c-63179f98362b"
      },
      "execution_count": null,
      "outputs": [
        {
          "execution_count": 22,
          "output_type": "execute_result",
          "data": {
            "text/plain": "torch.Size([891, 12])"
          },
          "metadata": {}
        }
      ]
    },
    {
      "cell_type": "code",
      "source": [
        "torch.manual_seed(442)\n",
        "\n",
        "n_coeff = t_indep.shape[1]\n",
        "coeffs = torch.rand(n_coeff)-0.5\n",
        "coeffs"
      ],
      "metadata": {
        "execution": {
          "iopub.status.busy": "2023-07-23T17:34:15.081761Z",
          "iopub.execute_input": "2023-07-23T17:34:15.082238Z",
          "iopub.status.idle": "2023-07-23T17:34:15.109723Z",
          "shell.execute_reply.started": "2023-07-23T17:34:15.082199Z",
          "shell.execute_reply": "2023-07-23T17:34:15.108741Z"
        },
        "trusted": true,
        "id": "7RNuVGJc-ZJm",
        "outputId": "a37417f2-d6c7-4b20-e1a1-b7b9077865d2"
      },
      "execution_count": null,
      "outputs": [
        {
          "execution_count": 23,
          "output_type": "execute_result",
          "data": {
            "text/plain": "tensor([-0.4629,  0.1386,  0.2409, -0.2262, -0.2632, -0.3147,  0.4876,  0.3136,  0.2799, -0.4392,  0.2103,  0.3625])"
          },
          "metadata": {}
        }
      ]
    },
    {
      "cell_type": "code",
      "source": [
        "t_indep*coeffs"
      ],
      "metadata": {
        "execution": {
          "iopub.status.busy": "2023-07-23T17:34:15.111116Z",
          "iopub.execute_input": "2023-07-23T17:34:15.112003Z",
          "iopub.status.idle": "2023-07-23T17:34:15.121504Z",
          "shell.execute_reply.started": "2023-07-23T17:34:15.111968Z",
          "shell.execute_reply": "2023-07-23T17:34:15.120466Z"
        },
        "trusted": true,
        "id": "8qCWeI1H-ZJm",
        "outputId": "56e032b2-3c3c-46f2-e30a-98c0a10f9995"
      },
      "execution_count": null,
      "outputs": [
        {
          "execution_count": 24,
          "output_type": "execute_result",
          "data": {
            "text/plain": "tensor([[-10.1838,   0.1386,   0.0000,  -0.4772,  -0.2632,  -0.0000,   0.0000,   0.0000,   0.2799,  -0.0000,   0.0000,   0.3625],\n        [-17.5902,   0.1386,   0.0000,  -0.9681,  -0.0000,  -0.3147,   0.4876,   0.0000,   0.0000,  -0.4392,   0.0000,   0.0000],\n        [-12.0354,   0.0000,   0.0000,  -0.4950,  -0.0000,  -0.3147,   0.0000,   0.0000,   0.2799,  -0.0000,   0.0000,   0.3625],\n        [-16.2015,   0.1386,   0.0000,  -0.9025,  -0.0000,  -0.3147,   0.4876,   0.0000,   0.0000,  -0.0000,   0.0000,   0.3625],\n        [-16.2015,   0.0000,   0.0000,  -0.4982,  -0.2632,  -0.0000,   0.0000,   0.0000,   0.2799,  -0.0000,   0.0000,   0.3625],\n        [-11.1096,   0.0000,   0.0000,  -0.5081,  -0.2632,  -0.0000,   0.0000,   0.0000,   0.2799,  -0.0000,   0.2103,   0.0000],\n        [-24.9966,   0.0000,   0.0000,  -0.8973,  -0.2632,  -0.0000,   0.4876,   0.0000,   0.0000,  -0.0000,   0.0000,   0.3625],\n        ...,\n        [-11.5725,   0.0000,   0.0000,  -0.4717,  -0.2632,  -0.0000,   0.0000,   0.0000,   0.2799,  -0.0000,   0.0000,   0.3625],\n        [-18.0531,   0.0000,   1.2045,  -0.7701,  -0.0000,  -0.3147,   0.0000,   0.0000,   0.2799,  -0.0000,   0.2103,   0.0000],\n        [-12.4983,   0.0000,   0.0000,  -0.5968,  -0.2632,  -0.0000,   0.0000,   0.3136,   0.0000,  -0.0000,   0.0000,   0.3625],\n        [ -8.7951,   0.0000,   0.0000,  -0.7766,  -0.0000,  -0.3147,   0.4876,   0.0000,   0.0000,  -0.0000,   0.0000,   0.3625],\n        [-11.1096,   0.1386,   0.4818,  -0.7229,  -0.0000,  -0.3147,   0.0000,   0.0000,   0.2799,  -0.0000,   0.0000,   0.3625],\n        [-12.0354,   0.0000,   0.0000,  -0.7766,  -0.2632,  -0.0000,   0.4876,   0.0000,   0.0000,  -0.4392,   0.0000,   0.0000],\n        [-14.8128,   0.0000,   0.0000,  -0.4905,  -0.2632,  -0.0000,   0.0000,   0.0000,   0.2799,  -0.0000,   0.2103,   0.0000]])"
          },
          "metadata": {}
        }
      ]
    },
    {
      "cell_type": "code",
      "source": [
        "vals,indices = t_indep.max(dim=0)\n",
        "t_indep = t_indep / vals"
      ],
      "metadata": {
        "execution": {
          "iopub.status.busy": "2023-07-23T17:34:15.122607Z",
          "iopub.execute_input": "2023-07-23T17:34:15.123965Z",
          "iopub.status.idle": "2023-07-23T17:34:15.135086Z",
          "shell.execute_reply.started": "2023-07-23T17:34:15.123919Z",
          "shell.execute_reply": "2023-07-23T17:34:15.133978Z"
        },
        "trusted": true,
        "id": "8Lm-5CIs-ZJn"
      },
      "execution_count": null,
      "outputs": []
    },
    {
      "cell_type": "code",
      "source": [
        "t_indep*coeffs"
      ],
      "metadata": {
        "execution": {
          "iopub.status.busy": "2023-07-23T17:34:15.136707Z",
          "iopub.execute_input": "2023-07-23T17:34:15.137312Z",
          "iopub.status.idle": "2023-07-23T17:34:15.147805Z",
          "shell.execute_reply.started": "2023-07-23T17:34:15.137277Z",
          "shell.execute_reply": "2023-07-23T17:34:15.146943Z"
        },
        "trusted": true,
        "id": "ZxTfCOEm-ZJn",
        "outputId": "14b8cd20-f757-4d64-e41a-0545cbf595f3"
      },
      "execution_count": null,
      "outputs": [
        {
          "execution_count": 26,
          "output_type": "execute_result",
          "data": {
            "text/plain": "tensor([[-0.1273,  0.0173,  0.0000, -0.0765, -0.2632, -0.0000,  0.0000,  0.0000,  0.2799, -0.0000,  0.0000,  0.3625],\n        [-0.2199,  0.0173,  0.0000, -0.1551, -0.0000, -0.3147,  0.4876,  0.0000,  0.0000, -0.4392,  0.0000,  0.0000],\n        [-0.1504,  0.0000,  0.0000, -0.0793, -0.0000, -0.3147,  0.0000,  0.0000,  0.2799, -0.0000,  0.0000,  0.3625],\n        [-0.2025,  0.0173,  0.0000, -0.1446, -0.0000, -0.3147,  0.4876,  0.0000,  0.0000, -0.0000,  0.0000,  0.3625],\n        [-0.2025,  0.0000,  0.0000, -0.0798, -0.2632, -0.0000,  0.0000,  0.0000,  0.2799, -0.0000,  0.0000,  0.3625],\n        [-0.1389,  0.0000,  0.0000, -0.0814, -0.2632, -0.0000,  0.0000,  0.0000,  0.2799, -0.0000,  0.2103,  0.0000],\n        [-0.3125,  0.0000,  0.0000, -0.1438, -0.2632, -0.0000,  0.4876,  0.0000,  0.0000, -0.0000,  0.0000,  0.3625],\n        ...,\n        [-0.1447,  0.0000,  0.0000, -0.0756, -0.2632, -0.0000,  0.0000,  0.0000,  0.2799, -0.0000,  0.0000,  0.3625],\n        [-0.2257,  0.0000,  0.2008, -0.1234, -0.0000, -0.3147,  0.0000,  0.0000,  0.2799, -0.0000,  0.2103,  0.0000],\n        [-0.1562,  0.0000,  0.0000, -0.0956, -0.2632, -0.0000,  0.0000,  0.3136,  0.0000, -0.0000,  0.0000,  0.3625],\n        [-0.1099,  0.0000,  0.0000, -0.1244, -0.0000, -0.3147,  0.4876,  0.0000,  0.0000, -0.0000,  0.0000,  0.3625],\n        [-0.1389,  0.0173,  0.0803, -0.1158, -0.0000, -0.3147,  0.0000,  0.0000,  0.2799, -0.0000,  0.0000,  0.3625],\n        [-0.1504,  0.0000,  0.0000, -0.1244, -0.2632, -0.0000,  0.4876,  0.0000,  0.0000, -0.4392,  0.0000,  0.0000],\n        [-0.1852,  0.0000,  0.0000, -0.0786, -0.2632, -0.0000,  0.0000,  0.0000,  0.2799, -0.0000,  0.2103,  0.0000]])"
          },
          "metadata": {}
        }
      ]
    },
    {
      "cell_type": "code",
      "source": [
        "t_indep = t_indep / vals"
      ],
      "metadata": {
        "execution": {
          "iopub.status.busy": "2023-07-23T17:34:15.149072Z",
          "iopub.execute_input": "2023-07-23T17:34:15.149587Z",
          "iopub.status.idle": "2023-07-23T17:34:15.156553Z",
          "shell.execute_reply.started": "2023-07-23T17:34:15.149556Z",
          "shell.execute_reply": "2023-07-23T17:34:15.155589Z"
        },
        "trusted": true,
        "id": "HfPnvirW-ZJn"
      },
      "execution_count": null,
      "outputs": []
    },
    {
      "cell_type": "code",
      "source": [
        "preds = (t_indep*coeffs).sum(axis=1)"
      ],
      "metadata": {
        "execution": {
          "iopub.status.busy": "2023-07-23T17:34:15.157749Z",
          "iopub.execute_input": "2023-07-23T17:34:15.158215Z",
          "iopub.status.idle": "2023-07-23T17:34:15.172003Z",
          "shell.execute_reply.started": "2023-07-23T17:34:15.158187Z",
          "shell.execute_reply": "2023-07-23T17:34:15.170485Z"
        },
        "trusted": true,
        "id": "G0vPjVOq-ZJn"
      },
      "execution_count": null,
      "outputs": []
    },
    {
      "cell_type": "code",
      "source": [
        "preds[:10]"
      ],
      "metadata": {
        "execution": {
          "iopub.status.busy": "2023-07-23T17:34:15.173697Z",
          "iopub.execute_input": "2023-07-23T17:34:15.174065Z",
          "iopub.status.idle": "2023-07-23T17:34:15.190032Z",
          "shell.execute_reply.started": "2023-07-23T17:34:15.174030Z",
          "shell.execute_reply": "2023-07-23T17:34:15.189197Z"
        },
        "trusted": true,
        "id": "9ml6B0ar-ZJn",
        "outputId": "9b2afe5f-473a-4df8-cd05-00339bbe4c5e"
      },
      "execution_count": null,
      "outputs": [
        {
          "execution_count": 29,
          "output_type": "execute_result",
          "data": {
            "text/plain": "tensor([ 0.3675, -0.2917,  0.3131,  0.5119,  0.3638,  0.2121,  0.5599,  0.3742,  0.3246, -0.4591])"
          },
          "metadata": {}
        }
      ]
    },
    {
      "cell_type": "code",
      "source": [
        "loss = torch.abs(preds-t_dep).mean()\n",
        "loss"
      ],
      "metadata": {
        "execution": {
          "iopub.status.busy": "2023-07-23T17:34:15.200818Z",
          "iopub.execute_input": "2023-07-23T17:34:15.201913Z",
          "iopub.status.idle": "2023-07-23T17:34:15.209538Z",
          "shell.execute_reply.started": "2023-07-23T17:34:15.201868Z",
          "shell.execute_reply": "2023-07-23T17:34:15.208626Z"
        },
        "trusted": true,
        "id": "-BPnp-VN-ZJn",
        "outputId": "d05bc68b-486d-4c6b-a163-04fb33ad5232"
      },
      "execution_count": null,
      "outputs": [
        {
          "execution_count": 30,
          "output_type": "execute_result",
          "data": {
            "text/plain": "tensor(0.5415)"
          },
          "metadata": {}
        }
      ]
    },
    {
      "cell_type": "code",
      "source": [
        "def calc_preds(coeffs, indeps): return (indeps*coeffs).sum(axis=1)\n",
        "def calc_loss(coeffs, indeps, deps): return torch.abs(calc_preds(coeffs, indeps)-deps).mean()"
      ],
      "metadata": {
        "execution": {
          "iopub.status.busy": "2023-07-23T17:34:15.210888Z",
          "iopub.execute_input": "2023-07-23T17:34:15.211742Z",
          "iopub.status.idle": "2023-07-23T17:34:15.220662Z",
          "shell.execute_reply.started": "2023-07-23T17:34:15.211698Z",
          "shell.execute_reply": "2023-07-23T17:34:15.219747Z"
        },
        "trusted": true,
        "id": "cjNKCozp-ZJn"
      },
      "execution_count": null,
      "outputs": []
    },
    {
      "cell_type": "code",
      "source": [
        "coeffs.requires_grad_()"
      ],
      "metadata": {
        "execution": {
          "iopub.status.busy": "2023-07-23T17:34:15.222490Z",
          "iopub.execute_input": "2023-07-23T17:34:15.223166Z",
          "iopub.status.idle": "2023-07-23T17:34:15.238404Z",
          "shell.execute_reply.started": "2023-07-23T17:34:15.223133Z",
          "shell.execute_reply": "2023-07-23T17:34:15.237216Z"
        },
        "trusted": true,
        "id": "exL5Xcdw-ZJo",
        "outputId": "e25513cf-e31c-4d77-9c2d-d8c94aa71200"
      },
      "execution_count": null,
      "outputs": [
        {
          "execution_count": 32,
          "output_type": "execute_result",
          "data": {
            "text/plain": "tensor([-0.4629,  0.1386,  0.2409, -0.2262, -0.2632, -0.3147,  0.4876,  0.3136,  0.2799, -0.4392,  0.2103,  0.3625], requires_grad=True)"
          },
          "metadata": {}
        }
      ]
    },
    {
      "cell_type": "code",
      "source": [
        "loss = calc_loss(coeffs, t_indep, t_dep)\n",
        "loss"
      ],
      "metadata": {
        "execution": {
          "iopub.status.busy": "2023-07-23T17:34:15.240506Z",
          "iopub.execute_input": "2023-07-23T17:34:15.241244Z",
          "iopub.status.idle": "2023-07-23T17:34:15.255754Z",
          "shell.execute_reply.started": "2023-07-23T17:34:15.241198Z",
          "shell.execute_reply": "2023-07-23T17:34:15.254759Z"
        },
        "trusted": true,
        "id": "D2wAycj1-ZJo",
        "outputId": "fdc7dfcb-42c4-4201-83d6-cd62517597ef"
      },
      "execution_count": null,
      "outputs": [
        {
          "execution_count": 33,
          "output_type": "execute_result",
          "data": {
            "text/plain": "tensor(0.5415, grad_fn=<MeanBackward0>)"
          },
          "metadata": {}
        }
      ]
    },
    {
      "cell_type": "code",
      "source": [
        "loss.backward()"
      ],
      "metadata": {
        "execution": {
          "iopub.status.busy": "2023-07-23T17:34:15.257561Z",
          "iopub.execute_input": "2023-07-23T17:34:15.258408Z",
          "iopub.status.idle": "2023-07-23T17:34:15.273814Z",
          "shell.execute_reply.started": "2023-07-23T17:34:15.258369Z",
          "shell.execute_reply": "2023-07-23T17:34:15.272869Z"
        },
        "trusted": true,
        "id": "_Nl-o369-ZJo"
      },
      "execution_count": null,
      "outputs": []
    },
    {
      "cell_type": "code",
      "source": [
        "coeffs.grad"
      ],
      "metadata": {
        "execution": {
          "iopub.status.busy": "2023-07-23T17:34:15.275312Z",
          "iopub.execute_input": "2023-07-23T17:34:15.276649Z",
          "iopub.status.idle": "2023-07-23T17:34:15.284809Z",
          "shell.execute_reply.started": "2023-07-23T17:34:15.276603Z",
          "shell.execute_reply": "2023-07-23T17:34:15.283557Z"
        },
        "trusted": true,
        "id": "iJTUjWwN-ZJo",
        "outputId": "2b08bde4-4315-401a-e11a-9b6a5d1ab6d8"
      },
      "execution_count": null,
      "outputs": [
        {
          "execution_count": 35,
          "output_type": "execute_result",
          "data": {
            "text/plain": "tensor([ 0.0003,  0.0018, -0.0005, -0.0034,  0.2548, -0.1908, -0.1212, -0.0067,  0.1919, -0.1886,  0.0191,  0.2334])"
          },
          "metadata": {}
        }
      ]
    },
    {
      "cell_type": "code",
      "source": [
        "loss = calc_loss(coeffs, t_indep, t_dep)\n",
        "loss.backward()\n",
        "coeffs.grad"
      ],
      "metadata": {
        "execution": {
          "iopub.status.busy": "2023-07-23T17:34:15.286474Z",
          "iopub.execute_input": "2023-07-23T17:34:15.287581Z",
          "iopub.status.idle": "2023-07-23T17:34:15.303193Z",
          "shell.execute_reply.started": "2023-07-23T17:34:15.287542Z",
          "shell.execute_reply": "2023-07-23T17:34:15.301750Z"
        },
        "trusted": true,
        "id": "F8eOrZ10-ZJo",
        "outputId": "97033e20-e2b5-4155-b48b-00d87e69ec60"
      },
      "execution_count": null,
      "outputs": [
        {
          "execution_count": 36,
          "output_type": "execute_result",
          "data": {
            "text/plain": "tensor([ 0.0007,  0.0036, -0.0010, -0.0069,  0.5095, -0.3816, -0.2424, -0.0135,  0.3838, -0.3771,  0.0382,  0.4669])"
          },
          "metadata": {}
        }
      ]
    },
    {
      "cell_type": "code",
      "source": [
        "loss = calc_loss(coeffs, t_indep, t_dep)\n",
        "loss.backward()\n",
        "with torch.no_grad():\n",
        "    coeffs.sub_(coeffs.grad * 0.1)\n",
        "    coeffs.grad.zero_()\n",
        "    print(calc_loss(coeffs, t_indep, t_dep))"
      ],
      "metadata": {
        "execution": {
          "iopub.status.busy": "2023-07-23T17:34:15.304612Z",
          "iopub.execute_input": "2023-07-23T17:34:15.304954Z",
          "iopub.status.idle": "2023-07-23T17:34:15.321499Z",
          "shell.execute_reply.started": "2023-07-23T17:34:15.304925Z",
          "shell.execute_reply": "2023-07-23T17:34:15.320541Z"
        },
        "trusted": true,
        "id": "c4bhNYLr-ZJo",
        "outputId": "11c4b3ad-c940-4b25-da18-7e98f5fda7b7"
      },
      "execution_count": null,
      "outputs": [
        {
          "name": "stdout",
          "text": "tensor(0.4685)\n",
          "output_type": "stream"
        }
      ]
    },
    {
      "cell_type": "code",
      "source": [
        "from fastai.data.transforms import RandomSplitter\n",
        "trn_split,val_split=RandomSplitter(seed=42)(df)"
      ],
      "metadata": {
        "execution": {
          "iopub.status.busy": "2023-07-23T17:34:15.323049Z",
          "iopub.execute_input": "2023-07-23T17:34:15.323650Z",
          "iopub.status.idle": "2023-07-23T17:34:15.622335Z",
          "shell.execute_reply.started": "2023-07-23T17:34:15.323607Z",
          "shell.execute_reply": "2023-07-23T17:34:15.620881Z"
        },
        "trusted": true,
        "id": "8CFelgky-ZJp"
      },
      "execution_count": null,
      "outputs": []
    },
    {
      "cell_type": "code",
      "source": [
        "trn_indep,val_indep = t_indep[trn_split],t_indep[val_split]\n",
        "trn_dep,val_dep = t_dep[trn_split],t_dep[val_split]\n",
        "len(trn_indep),len(val_indep)"
      ],
      "metadata": {
        "execution": {
          "iopub.status.busy": "2023-07-23T17:34:15.623537Z",
          "iopub.execute_input": "2023-07-23T17:34:15.624108Z",
          "iopub.status.idle": "2023-07-23T17:34:15.641009Z",
          "shell.execute_reply.started": "2023-07-23T17:34:15.624066Z",
          "shell.execute_reply": "2023-07-23T17:34:15.639906Z"
        },
        "trusted": true,
        "id": "MI7WPnK--ZJp",
        "outputId": "64fddb33-34e3-4c29-cdc1-4b2b50145029"
      },
      "execution_count": null,
      "outputs": [
        {
          "execution_count": 39,
          "output_type": "execute_result",
          "data": {
            "text/plain": "(713, 178)"
          },
          "metadata": {}
        }
      ]
    },
    {
      "cell_type": "code",
      "source": [
        "def update_coeffs(coeffs, lr):\n",
        "    coeffs.sub_(coeffs.grad * lr)\n",
        "    coeffs.grad.zero_()"
      ],
      "metadata": {
        "execution": {
          "iopub.status.busy": "2023-07-23T17:34:15.642643Z",
          "iopub.execute_input": "2023-07-23T17:34:15.643003Z",
          "iopub.status.idle": "2023-07-23T17:34:15.648188Z",
          "shell.execute_reply.started": "2023-07-23T17:34:15.642973Z",
          "shell.execute_reply": "2023-07-23T17:34:15.647049Z"
        },
        "trusted": true,
        "id": "sfNiAEZL-ZJp"
      },
      "execution_count": null,
      "outputs": []
    },
    {
      "cell_type": "code",
      "source": [
        "def one_epoch(coeffs, lr):\n",
        "    loss = calc_loss(coeffs, trn_indep, trn_dep)\n",
        "    loss.backward()\n",
        "    with torch.no_grad(): update_coeffs(coeffs, lr)\n",
        "    print(f\"{loss:.3f}\", end=\"; \")"
      ],
      "metadata": {
        "execution": {
          "iopub.status.busy": "2023-07-23T17:34:15.649713Z",
          "iopub.execute_input": "2023-07-23T17:34:15.650087Z",
          "iopub.status.idle": "2023-07-23T17:34:15.661995Z",
          "shell.execute_reply.started": "2023-07-23T17:34:15.650058Z",
          "shell.execute_reply": "2023-07-23T17:34:15.660909Z"
        },
        "trusted": true,
        "id": "hdTpqAl_-ZJu"
      },
      "execution_count": null,
      "outputs": []
    },
    {
      "cell_type": "code",
      "source": [
        "def init_coeffs(): return (torch.rand(n_coeff)-0.5).requires_grad_()"
      ],
      "metadata": {
        "execution": {
          "iopub.status.busy": "2023-07-23T17:34:15.665459Z",
          "iopub.execute_input": "2023-07-23T17:34:15.665889Z",
          "iopub.status.idle": "2023-07-23T17:34:15.674816Z",
          "shell.execute_reply.started": "2023-07-23T17:34:15.665856Z",
          "shell.execute_reply": "2023-07-23T17:34:15.673927Z"
        },
        "trusted": true,
        "id": "PlCsl6EX-ZJu"
      },
      "execution_count": null,
      "outputs": []
    },
    {
      "cell_type": "code",
      "source": [
        "def train_model(epochs=30, lr=0.01):\n",
        "    torch.manual_seed(442)\n",
        "    coeffs = init_coeffs()\n",
        "    for i in range(epochs): one_epoch(coeffs, lr=lr)\n",
        "    return coeffs"
      ],
      "metadata": {
        "execution": {
          "iopub.status.busy": "2023-07-23T17:34:15.675949Z",
          "iopub.execute_input": "2023-07-23T17:34:15.676911Z",
          "iopub.status.idle": "2023-07-23T17:34:15.686613Z",
          "shell.execute_reply.started": "2023-07-23T17:34:15.676876Z",
          "shell.execute_reply": "2023-07-23T17:34:15.685643Z"
        },
        "trusted": true,
        "id": "r6aLX9Dw-ZJu"
      },
      "execution_count": null,
      "outputs": []
    },
    {
      "cell_type": "code",
      "source": [
        "coeffs = train_model(18, lr=0.2)"
      ],
      "metadata": {
        "execution": {
          "iopub.status.busy": "2023-07-23T17:34:15.688101Z",
          "iopub.execute_input": "2023-07-23T17:34:15.688506Z",
          "iopub.status.idle": "2023-07-23T17:34:15.708009Z",
          "shell.execute_reply.started": "2023-07-23T17:34:15.688475Z",
          "shell.execute_reply": "2023-07-23T17:34:15.706444Z"
        },
        "trusted": true,
        "id": "_CX-m8eq-ZJu",
        "outputId": "1e22f0b4-cff8-44ae-aecf-c5dde76942e9"
      },
      "execution_count": null,
      "outputs": [
        {
          "name": "stdout",
          "text": "0.539; 0.492; 0.444; 0.419; 0.426; 0.379; 0.386; 0.367; 0.340; 0.358; 0.311; 0.354; 0.329; 0.301; 0.323; 0.283; 0.304; 0.285; ",
          "output_type": "stream"
        }
      ]
    },
    {
      "cell_type": "code",
      "source": [
        "def show_coeffs(): return dict(zip(indep_cols, coeffs.requires_grad_(False)))\n",
        "show_coeffs()"
      ],
      "metadata": {
        "execution": {
          "iopub.status.busy": "2023-07-23T17:34:15.711138Z",
          "iopub.execute_input": "2023-07-23T17:34:15.712188Z",
          "iopub.status.idle": "2023-07-23T17:34:15.723879Z",
          "shell.execute_reply.started": "2023-07-23T17:34:15.712152Z",
          "shell.execute_reply": "2023-07-23T17:34:15.722724Z"
        },
        "trusted": true,
        "id": "ljQBQkHe-ZJv",
        "outputId": "68c62dc5-7bca-43b9-d5f5-65fee699babc"
      },
      "execution_count": null,
      "outputs": [
        {
          "execution_count": 45,
          "output_type": "execute_result",
          "data": {
            "text/plain": "{'Age': tensor(-0.4620),\n 'SibSp': tensor(0.1377),\n 'Parch': tensor(0.2451),\n 'LogFare': tensor(-0.1862),\n 'Sex_male': tensor(-0.4198),\n 'Sex_female': tensor(0.2177),\n 'Pclass_1': tensor(0.6980),\n 'Pclass_2': tensor(0.3781),\n 'Pclass_3': tensor(0.3809),\n 'Embarked_C': tensor(0.0702),\n 'Embarked_Q': tensor(0.2114),\n 'Embarked_S': tensor(0.2279)}"
          },
          "metadata": {}
        }
      ]
    },
    {
      "cell_type": "code",
      "source": [
        "preds = calc_preds(coeffs, val_indep)"
      ],
      "metadata": {
        "execution": {
          "iopub.status.busy": "2023-07-23T17:34:15.725583Z",
          "iopub.execute_input": "2023-07-23T17:34:15.725967Z",
          "iopub.status.idle": "2023-07-23T17:34:15.731474Z",
          "shell.execute_reply.started": "2023-07-23T17:34:15.725936Z",
          "shell.execute_reply": "2023-07-23T17:34:15.730433Z"
        },
        "trusted": true,
        "id": "YaINstVt-ZJv"
      },
      "execution_count": null,
      "outputs": []
    },
    {
      "cell_type": "code",
      "source": [
        "results = val_dep.bool()==(preds>0.5)\n",
        "results[:16]"
      ],
      "metadata": {
        "execution": {
          "iopub.status.busy": "2023-07-23T17:34:15.733025Z",
          "iopub.execute_input": "2023-07-23T17:34:15.733325Z",
          "iopub.status.idle": "2023-07-23T17:34:15.749994Z",
          "shell.execute_reply.started": "2023-07-23T17:34:15.733298Z",
          "shell.execute_reply": "2023-07-23T17:34:15.748742Z"
        },
        "trusted": true,
        "id": "9voYkB8X-ZJv",
        "outputId": "031ca35c-a9ab-4519-dff8-f02e176a2ec1"
      },
      "execution_count": null,
      "outputs": [
        {
          "execution_count": 47,
          "output_type": "execute_result",
          "data": {
            "text/plain": "tensor([ True,  True,  True,  True,  True,  True,  True,  True,  True,  True, False, False, False,  True,  True, False])"
          },
          "metadata": {}
        }
      ]
    },
    {
      "cell_type": "code",
      "source": [
        "results.float().mean()"
      ],
      "metadata": {
        "execution": {
          "iopub.status.busy": "2023-07-23T17:34:15.751559Z",
          "iopub.execute_input": "2023-07-23T17:34:15.751944Z",
          "iopub.status.idle": "2023-07-23T17:34:15.764798Z",
          "shell.execute_reply.started": "2023-07-23T17:34:15.751913Z",
          "shell.execute_reply": "2023-07-23T17:34:15.763531Z"
        },
        "trusted": true,
        "id": "ftO8GnrL-ZJv",
        "outputId": "804997ed-714f-44ce-cee8-77b6f8b1283d"
      },
      "execution_count": null,
      "outputs": [
        {
          "execution_count": 48,
          "output_type": "execute_result",
          "data": {
            "text/plain": "tensor(0.7865)"
          },
          "metadata": {}
        }
      ]
    },
    {
      "cell_type": "code",
      "source": [
        "def acc(coeffs): return (val_dep.bool()==(calc_preds(coeffs, val_indep)>0.5)).float().mean()\n",
        "acc(coeffs)"
      ],
      "metadata": {
        "execution": {
          "iopub.status.busy": "2023-07-23T17:34:15.765942Z",
          "iopub.execute_input": "2023-07-23T17:34:15.766327Z",
          "iopub.status.idle": "2023-07-23T17:34:15.776892Z",
          "shell.execute_reply.started": "2023-07-23T17:34:15.766294Z",
          "shell.execute_reply": "2023-07-23T17:34:15.775979Z"
        },
        "trusted": true,
        "id": "0RXsE0W2-ZJw",
        "outputId": "fc4504c0-0cdb-499b-ff91-7d79ab55489c"
      },
      "execution_count": null,
      "outputs": [
        {
          "execution_count": 49,
          "output_type": "execute_result",
          "data": {
            "text/plain": "tensor(0.7865)"
          },
          "metadata": {}
        }
      ]
    },
    {
      "cell_type": "code",
      "source": [
        "preds[:28]"
      ],
      "metadata": {
        "execution": {
          "iopub.status.busy": "2023-07-23T17:34:15.778187Z",
          "iopub.execute_input": "2023-07-23T17:34:15.778574Z",
          "iopub.status.idle": "2023-07-23T17:34:15.792142Z",
          "shell.execute_reply.started": "2023-07-23T17:34:15.778540Z",
          "shell.execute_reply": "2023-07-23T17:34:15.791304Z"
        },
        "trusted": true,
        "id": "kZ78rXd6-ZJw",
        "outputId": "da9f63a2-db4f-41a1-ff25-a37652ddc6fe"
      },
      "execution_count": null,
      "outputs": [
        {
          "execution_count": 50,
          "output_type": "execute_result",
          "data": {
            "text/plain": "tensor([0.7931, 0.1604, 0.0195, 0.1643, 0.1718, 0.1711, 0.6625, 0.8090, 0.1948, 0.6609, 0.1762, 0.0252, 0.1857, 0.7978, 0.1769, 0.4870,\n        0.4855, 0.8129, 0.1676, 0.8133, 0.1768, 0.4862, 0.9695, 0.8159, 0.1776, 0.1575, 0.8234, 0.4858])"
          },
          "metadata": {}
        }
      ]
    },
    {
      "cell_type": "code",
      "source": [
        "import sympy\n",
        "sympy.plot(\"1/(1+exp(-x))\", xlim=(-5,5));"
      ],
      "metadata": {
        "execution": {
          "iopub.status.busy": "2023-07-23T17:34:15.793404Z",
          "iopub.execute_input": "2023-07-23T17:34:15.793746Z",
          "iopub.status.idle": "2023-07-23T17:34:16.397424Z",
          "shell.execute_reply.started": "2023-07-23T17:34:15.793718Z",
          "shell.execute_reply": "2023-07-23T17:34:16.396226Z"
        },
        "trusted": true,
        "id": "_leHx26q-ZJw",
        "outputId": "c773149f-d205-4977-98f2-a2ee03c03ad0"
      },
      "execution_count": null,
      "outputs": [
        {
          "output_type": "display_data",
          "data": {
            "text/plain": "<Figure size 640x480 with 1 Axes>",
            "image/png": "[encoded data removed]"
          },
          "metadata": {}
        }
      ]
    },
    {
      "cell_type": "code",
      "source": [
        "def calc_preds(coeffs, indeps): return torch.sigmoid((indeps*coeffs).sum(axis=1))"
      ],
      "metadata": {
        "execution": {
          "iopub.status.busy": "2023-07-23T17:34:16.398943Z",
          "iopub.execute_input": "2023-07-23T17:34:16.399380Z",
          "iopub.status.idle": "2023-07-23T17:34:16.405784Z",
          "shell.execute_reply.started": "2023-07-23T17:34:16.399338Z",
          "shell.execute_reply": "2023-07-23T17:34:16.404428Z"
        },
        "trusted": true,
        "id": "S7hHZa9f-ZJw"
      },
      "execution_count": null,
      "outputs": []
    },
    {
      "cell_type": "code",
      "source": [
        "coeffs = train_model(lr=100)"
      ],
      "metadata": {
        "execution": {
          "iopub.status.busy": "2023-07-23T17:34:16.407470Z",
          "iopub.execute_input": "2023-07-23T17:34:16.407953Z",
          "iopub.status.idle": "2023-07-23T17:34:16.439043Z",
          "shell.execute_reply.started": "2023-07-23T17:34:16.407870Z",
          "shell.execute_reply": "2023-07-23T17:34:16.437901Z"
        },
        "trusted": true,
        "id": "Gnj9pqFS-ZJw",
        "outputId": "970b2db9-bb31-4d1a-b7d0-ce53b1224cc1"
      },
      "execution_count": null,
      "outputs": [
        {
          "name": "stdout",
          "text": "0.524; 0.291; 0.211; 0.203; 0.199; 0.198; 0.198; 0.197; 0.197; 0.196; 0.196; 0.196; 0.196; 0.195; 0.195; 0.195; 0.195; 0.195; 0.195; 0.195; 0.195; 0.195; 0.194; 0.194; 0.194; 0.194; 0.194; 0.194; 0.194; 0.194; ",
          "output_type": "stream"
        }
      ]
    },
    {
      "cell_type": "code",
      "source": [
        "acc(coeffs)"
      ],
      "metadata": {
        "execution": {
          "iopub.status.busy": "2023-07-23T17:34:16.441653Z",
          "iopub.execute_input": "2023-07-23T17:34:16.442030Z",
          "iopub.status.idle": "2023-07-23T17:34:16.451843Z",
          "shell.execute_reply.started": "2023-07-23T17:34:16.441998Z",
          "shell.execute_reply": "2023-07-23T17:34:16.450714Z"
        },
        "trusted": true,
        "id": "4oyUQa0g-ZJx",
        "outputId": "b5a25463-84e0-4e17-c069-591171325fda"
      },
      "execution_count": null,
      "outputs": [
        {
          "execution_count": 54,
          "output_type": "execute_result",
          "data": {
            "text/plain": "tensor(0.8258)"
          },
          "metadata": {}
        }
      ]
    },
    {
      "cell_type": "code",
      "source": [
        "show_coeffs()"
      ],
      "metadata": {
        "execution": {
          "iopub.status.busy": "2023-07-23T17:34:16.453331Z",
          "iopub.execute_input": "2023-07-23T17:34:16.453734Z",
          "iopub.status.idle": "2023-07-23T17:34:16.468812Z",
          "shell.execute_reply.started": "2023-07-23T17:34:16.453692Z",
          "shell.execute_reply": "2023-07-23T17:34:16.467274Z"
        },
        "trusted": true,
        "id": "nG6_LzTy-ZJx",
        "outputId": "dedf38b7-0880-48ff-9949-b8f01a7df589"
      },
      "execution_count": null,
      "outputs": [
        {
          "execution_count": 55,
          "output_type": "execute_result",
          "data": {
            "text/plain": "{'Age': tensor(-0.4786),\n 'SibSp': tensor(-0.0450),\n 'Parch': tensor(0.1119),\n 'LogFare': tensor(-0.2008),\n 'Sex_male': tensor(-10.1734),\n 'Sex_female': tensor(7.9806),\n 'Pclass_1': tensor(3.3944),\n 'Pclass_2': tensor(2.2695),\n 'Pclass_3': tensor(-6.1976),\n 'Embarked_C': tensor(1.4253),\n 'Embarked_Q': tensor(2.1883),\n 'Embarked_S': tensor(-5.0948)}"
          },
          "metadata": {}
        }
      ]
    },
    {
      "cell_type": "code",
      "source": [
        "tst_df = pd.read_csv(path/'test.csv')"
      ],
      "metadata": {
        "execution": {
          "iopub.status.busy": "2023-07-23T17:34:16.470790Z",
          "iopub.execute_input": "2023-07-23T17:34:16.471278Z",
          "iopub.status.idle": "2023-07-23T17:34:16.487498Z",
          "shell.execute_reply.started": "2023-07-23T17:34:16.471241Z",
          "shell.execute_reply": "2023-07-23T17:34:16.486207Z"
        },
        "trusted": true,
        "id": "fExh9AK3-ZJx"
      },
      "execution_count": null,
      "outputs": []
    },
    {
      "cell_type": "code",
      "source": [
        "tst_df['Fare'] = tst_df.Fare.fillna(0)"
      ],
      "metadata": {
        "execution": {
          "iopub.status.busy": "2023-07-23T17:34:16.489348Z",
          "iopub.execute_input": "2023-07-23T17:34:16.489701Z",
          "iopub.status.idle": "2023-07-23T17:34:16.495643Z",
          "shell.execute_reply.started": "2023-07-23T17:34:16.489644Z",
          "shell.execute_reply": "2023-07-23T17:34:16.494758Z"
        },
        "trusted": true,
        "id": "tmXAdVtc-ZJx"
      },
      "execution_count": null,
      "outputs": []
    },
    {
      "cell_type": "code",
      "source": [
        "tst_df.fillna(modes, inplace=True)\n",
        "tst_df['LogFare'] = np.log(tst_df['Fare']+1)\n",
        "tst_df = pd.get_dummies(tst_df, columns=[\"Sex\",\"Pclass\",\"Embarked\"])\n",
        "\n",
        "tst_indep = tensor(tst_df[indep_cols].values, dtype=torch.float)\n",
        "tst_indep = tst_indep / vals"
      ],
      "metadata": {
        "execution": {
          "iopub.status.busy": "2023-07-23T17:34:16.496760Z",
          "iopub.execute_input": "2023-07-23T17:34:16.497073Z",
          "iopub.status.idle": "2023-07-23T17:34:16.528787Z",
          "shell.execute_reply.started": "2023-07-23T17:34:16.497046Z",
          "shell.execute_reply": "2023-07-23T17:34:16.527566Z"
        },
        "trusted": true,
        "id": "PKnEsX3D-ZJx"
      },
      "execution_count": null,
      "outputs": []
    },
    {
      "cell_type": "code",
      "source": [
        "tst_df['Survived'] = (calc_preds(tst_indep, coeffs)>0.5).int()"
      ],
      "metadata": {
        "execution": {
          "iopub.status.busy": "2023-07-23T17:34:16.530524Z",
          "iopub.execute_input": "2023-07-23T17:34:16.531266Z",
          "iopub.status.idle": "2023-07-23T17:34:16.538089Z",
          "shell.execute_reply.started": "2023-07-23T17:34:16.531222Z",
          "shell.execute_reply": "2023-07-23T17:34:16.536647Z"
        },
        "trusted": true,
        "id": "H3XX6rci-ZJy"
      },
      "execution_count": null,
      "outputs": []
    },
    {
      "cell_type": "code",
      "source": [
        "sub_df = tst_df[['PassengerId','Survived']]\n",
        "sub_df.to_csv('sub.csv', index=False)"
      ],
      "metadata": {
        "execution": {
          "iopub.status.busy": "2023-07-23T17:34:16.539632Z",
          "iopub.execute_input": "2023-07-23T17:34:16.540483Z",
          "iopub.status.idle": "2023-07-23T17:34:16.557635Z",
          "shell.execute_reply.started": "2023-07-23T17:34:16.540448Z",
          "shell.execute_reply": "2023-07-23T17:34:16.556730Z"
        },
        "trusted": true,
        "id": "SM2rsYvk-ZJy"
      },
      "execution_count": null,
      "outputs": []
    },
    {
      "cell_type": "code",
      "source": [
        "!head sub.csv"
      ],
      "metadata": {
        "execution": {
          "iopub.status.busy": "2023-07-23T17:34:16.558962Z",
          "iopub.execute_input": "2023-07-23T17:34:16.559881Z",
          "iopub.status.idle": "2023-07-23T17:34:17.663686Z",
          "shell.execute_reply.started": "2023-07-23T17:34:16.559836Z",
          "shell.execute_reply": "2023-07-23T17:34:17.661915Z"
        },
        "trusted": true,
        "id": "QPzVFcfg-ZJy",
        "outputId": "db3fdf56-ea24-4814-fead-64d6111025fc"
      },
      "execution_count": null,
      "outputs": [
        {
          "name": "stdout",
          "text": "PassengerId,Survived\n892,0\n893,0\n894,0\n895,0\n896,0\n897,0\n898,1\n899,0\n900,1\n",
          "output_type": "stream"
        }
      ]
    },
    {
      "cell_type": "code",
      "source": [
        "(val_indep*coeffs).sum(axis=1)"
      ],
      "metadata": {
        "execution": {
          "iopub.status.busy": "2023-07-23T17:34:17.665792Z",
          "iopub.execute_input": "2023-07-23T17:34:17.666183Z",
          "iopub.status.idle": "2023-07-23T17:34:17.677397Z",
          "shell.execute_reply.started": "2023-07-23T17:34:17.666146Z",
          "shell.execute_reply": "2023-07-23T17:34:17.676362Z"
        },
        "trusted": true,
        "id": "bGWvrX7O-ZJy",
        "outputId": "9dd438a2-ea02-4d74-871d-5875780889cf"
      },
      "execution_count": null,
      "outputs": [
        {
          "execution_count": 62,
          "output_type": "execute_result",
          "data": {
            "text/plain": "tensor([ 12.4232, -14.1957, -14.9584, -13.0223, -13.0142, -13.0179,   3.1973,   5.1396, -21.4831,   3.1926, -21.4795, -14.9595, -21.4766,\n          3.9582, -21.4787, -11.8943, -11.8958,   5.1395, -13.0186,  -3.3258, -21.4789, -11.8951,  12.7754,   5.1356, -21.4781, -14.2018,\n         -3.3224, -11.8955, -21.4788,   3.9583,   5.1466,  -3.3303, -21.4785, -21.4794,  12.4228,  -3.3265, -11.8957,  12.7765, -21.4790,\n         -3.3257, -13.0127, -21.4790, -13.0122,  12.7754, -21.4787,  -3.3184, -21.4886, -21.4836, -14.1952,  -3.3243,  -4.6187, -21.4837,\n        -21.4810, -21.4784, -13.0132, -13.0137, -14.1957, -21.4837, -21.4787, -21.4826,  -5.3733, -21.4785, -11.8975, -21.4787,   5.1343,\n        -11.8947, -13.0141, -21.4853, -14.1978,   5.1381, -21.4790,   3.1983, -13.0136, -21.4797, -11.8926, -21.4782, -21.4790, -11.9006,\n        -13.0137, -13.0165, -13.0161,  12.7747, -21.4788, -21.4785,   5.1390,  -6.4943,  -5.3800,   6.2599,  11.6560, -13.0140, -21.4797,\n        -21.4790,  12.7739, -14.9589,   3.1944,  -6.4949, -13.0191,   3.9516,   3.9584, -14.1947, -21.4760,   3.9583, -21.4795, -21.4793,\n        -11.8978, -13.0154, -21.4802,   5.1357,  -5.3796, -21.4794,   5.1421,  -3.3300, -11.8933,  13.5368, -21.4790,  12.7727,  -3.3252,\n        -14.1957, -21.4801,  12.7712, -21.4858,  -5.3784, -14.1957,  -3.3267, -14.9584, -11.8937,  -3.3249,  -3.3250, -21.4791, -13.0197,\n          6.2559, -21.4829,   5.1349,   5.1393,  12.7720, -21.4786, -13.0169, -21.4801,  -6.4995,   5.1367, -13.0145,  12.7731, -21.4799,\n        -14.1963,  -3.3295,   6.2522, -21.4803,   3.1964,   6.2630,   3.1939,  -3.3297,   3.9645,   5.1411, -14.2006, -14.2024, -21.4889,\n        -21.4790,  -3.3263, -13.0148, -21.4817,  12.7782,  -6.4988, -21.4840, -11.8957,  12.7746,   6.2524,   5.1381,   5.1386, -11.8956,\n        -11.8957,  -3.3252, -21.4814,   6.2561, -21.4797, -21.4804,   6.2617, -11.8934, -21.4786])"
          },
          "metadata": {}
        }
      ]
    },
    {
      "cell_type": "code",
      "source": [
        "val_indep@coeffs"
      ],
      "metadata": {
        "execution": {
          "iopub.status.busy": "2023-07-23T17:34:17.678969Z",
          "iopub.execute_input": "2023-07-23T17:34:17.679299Z",
          "iopub.status.idle": "2023-07-23T17:34:17.697691Z",
          "shell.execute_reply.started": "2023-07-23T17:34:17.679270Z",
          "shell.execute_reply": "2023-07-23T17:34:17.696522Z"
        },
        "trusted": true,
        "id": "wl0AwGdN-ZJy",
        "outputId": "1a1e9630-a708-4023-9129-21441fec55a0"
      },
      "execution_count": null,
      "outputs": [
        {
          "execution_count": 63,
          "output_type": "execute_result",
          "data": {
            "text/plain": "tensor([ 12.4232, -14.1957, -14.9584, -13.0223, -13.0142, -13.0179,   3.1973,   5.1396, -21.4831,   3.1926, -21.4795, -14.9595, -21.4766,\n          3.9582, -21.4787, -11.8943, -11.8958,   5.1395, -13.0186,  -3.3258, -21.4789, -11.8951,  12.7754,   5.1356, -21.4780, -14.2018,\n         -3.3224, -11.8955, -21.4788,   3.9583,   5.1466,  -3.3303, -21.4785, -21.4794,  12.4228,  -3.3265, -11.8957,  12.7765, -21.4790,\n         -3.3257, -13.0127, -21.4790, -13.0122,  12.7754, -21.4787,  -3.3184, -21.4886, -21.4836, -14.1952,  -3.3243,  -4.6187, -21.4837,\n        -21.4810, -21.4784, -13.0132, -13.0137, -14.1957, -21.4837, -21.4787, -21.4826,  -5.3733, -21.4785, -11.8975, -21.4787,   5.1343,\n        -11.8947, -13.0141, -21.4853, -14.1978,   5.1381, -21.4790,   3.1983, -13.0136, -21.4797, -11.8926, -21.4782, -21.4790, -11.9006,\n        -13.0137, -13.0165, -13.0161,  12.7747, -21.4788, -21.4785,   5.1390,  -6.4943,  -5.3800,   6.2599,  11.6560, -13.0140, -21.4797,\n        -21.4790,  12.7739, -14.9589,   3.1944,  -6.4949, -13.0191,   3.9516,   3.9584, -14.1947, -21.4760,   3.9583, -21.4795, -21.4793,\n        -11.8978, -13.0154, -21.4802,   5.1357,  -5.3796, -21.4794,   5.1421,  -3.3300, -11.8933,  13.5368, -21.4790,  12.7727,  -3.3252,\n        -14.1957, -21.4801,  12.7712, -21.4858,  -5.3784, -14.1957,  -3.3267, -14.9584, -11.8937,  -3.3249,  -3.3250, -21.4791, -13.0197,\n          6.2559, -21.4829,   5.1349,   5.1393,  12.7720, -21.4786, -13.0169, -21.4801,  -6.4995,   5.1367, -13.0145,  12.7731, -21.4799,\n        -14.1963,  -3.3295,   6.2522, -21.4803,   3.1964,   6.2630,   3.1939,  -3.3297,   3.9645,   5.1411, -14.2006, -14.2024, -21.4889,\n        -21.4790,  -3.3263, -13.0148, -21.4817,  12.7782,  -6.4988, -21.4840, -11.8957,  12.7746,   6.2524,   5.1381,   5.1386, -11.8956,\n        -11.8957,  -3.3252, -21.4814,   6.2561, -21.4797, -21.4804,   6.2617, -11.8934, -21.4786])"
          },
          "metadata": {}
        }
      ]
    },
    {
      "cell_type": "code",
      "source": [
        "def calc_preds(coeffs, indeps): return torch.sigmoid(indeps@coeffs)"
      ],
      "metadata": {
        "execution": {
          "iopub.status.busy": "2023-07-23T17:34:17.699374Z",
          "iopub.execute_input": "2023-07-23T17:34:17.699744Z",
          "iopub.status.idle": "2023-07-23T17:34:17.705210Z",
          "shell.execute_reply.started": "2023-07-23T17:34:17.699712Z",
          "shell.execute_reply": "2023-07-23T17:34:17.703898Z"
        },
        "trusted": true,
        "id": "cXGQwuSu-ZJz"
      },
      "execution_count": null,
      "outputs": []
    },
    {
      "cell_type": "code",
      "source": [
        "def init_coeffs(): return (torch.rand(n_coeff, 1)*0.1).requires_grad_()"
      ],
      "metadata": {
        "execution": {
          "iopub.status.busy": "2023-07-23T17:34:17.706883Z",
          "iopub.execute_input": "2023-07-23T17:34:17.707210Z",
          "iopub.status.idle": "2023-07-23T17:34:17.720996Z",
          "shell.execute_reply.started": "2023-07-23T17:34:17.707180Z",
          "shell.execute_reply": "2023-07-23T17:34:17.720009Z"
        },
        "trusted": true,
        "id": "LaB9AHe_-ZJz"
      },
      "execution_count": null,
      "outputs": []
    },
    {
      "cell_type": "code",
      "source": [
        "trn_dep = trn_dep[:,None]\n",
        "val_dep = val_dep[:,None]"
      ],
      "metadata": {
        "execution": {
          "iopub.status.busy": "2023-07-23T17:34:17.722292Z",
          "iopub.execute_input": "2023-07-23T17:34:17.722634Z",
          "iopub.status.idle": "2023-07-23T17:34:17.738583Z",
          "shell.execute_reply.started": "2023-07-23T17:34:17.722604Z",
          "shell.execute_reply": "2023-07-23T17:34:17.737542Z"
        },
        "trusted": true,
        "id": "kQYVpzxU-ZJz"
      },
      "execution_count": null,
      "outputs": []
    },
    {
      "cell_type": "code",
      "source": [
        "coeffs = train_model(lr=100)"
      ],
      "metadata": {
        "execution": {
          "iopub.status.busy": "2023-07-23T17:34:17.740018Z",
          "iopub.execute_input": "2023-07-23T17:34:17.740368Z",
          "iopub.status.idle": "2023-07-23T17:34:17.768872Z",
          "shell.execute_reply.started": "2023-07-23T17:34:17.740337Z",
          "shell.execute_reply": "2023-07-23T17:34:17.768030Z"
        },
        "trusted": true,
        "id": "5Txpa9U6-ZJz",
        "outputId": "6d1f6ada-2786-4812-f219-768411491670"
      },
      "execution_count": null,
      "outputs": [
        {
          "name": "stdout",
          "text": "0.512; 0.296; 0.212; 0.202; 0.198; 0.198; 0.197; 0.197; 0.196; 0.196; 0.196; 0.196; 0.195; 0.195; 0.195; 0.195; 0.195; 0.195; 0.195; 0.195; 0.194; 0.194; 0.194; 0.194; 0.194; 0.194; 0.194; 0.194; 0.194; 0.194; ",
          "output_type": "stream"
        }
      ]
    },
    {
      "cell_type": "code",
      "source": [
        "acc(coeffs)"
      ],
      "metadata": {
        "execution": {
          "iopub.status.busy": "2023-07-23T17:34:17.770361Z",
          "iopub.execute_input": "2023-07-23T17:34:17.771511Z",
          "iopub.status.idle": "2023-07-23T17:34:17.779055Z",
          "shell.execute_reply.started": "2023-07-23T17:34:17.771466Z",
          "shell.execute_reply": "2023-07-23T17:34:17.778155Z"
        },
        "trusted": true,
        "id": "SsZtZQ_G-ZJz",
        "outputId": "9b97dde2-cf99-430e-fd0f-62ff0767bce2"
      },
      "execution_count": null,
      "outputs": [
        {
          "execution_count": 68,
          "output_type": "execute_result",
          "data": {
            "text/plain": "tensor(0.8258)"
          },
          "metadata": {}
        }
      ]
    },
    {
      "cell_type": "code",
      "source": [
        "def init_coeffs(n_hidden=20):\n",
        "    layer1 = (torch.rand(n_coeff, n_hidden)-0.5)/n_hidden\n",
        "    layer2 = torch.rand(n_hidden, 1)-0.3\n",
        "    const = torch.rand(1)[0]\n",
        "    return layer1.requires_grad_(),layer2.requires_grad_(),const.requires_grad_()"
      ],
      "metadata": {
        "execution": {
          "iopub.status.busy": "2023-07-23T17:34:17.780275Z",
          "iopub.execute_input": "2023-07-23T17:34:17.781203Z",
          "iopub.status.idle": "2023-07-23T17:34:17.791287Z",
          "shell.execute_reply.started": "2023-07-23T17:34:17.781165Z",
          "shell.execute_reply": "2023-07-23T17:34:17.790098Z"
        },
        "trusted": true,
        "id": "X3XtUFfb-ZJ0"
      },
      "execution_count": null,
      "outputs": []
    },
    {
      "cell_type": "code",
      "source": [
        "import torch.nn.functional as F\n",
        "\n",
        "def calc_preds(coeffs, indeps):\n",
        "    l1,l2,const = coeffs\n",
        "    res = F.relu(indeps@l1)\n",
        "    res = res@l2 + const\n",
        "    return torch.sigmoid(res)"
      ],
      "metadata": {
        "execution": {
          "iopub.status.busy": "2023-07-23T17:34:17.792571Z",
          "iopub.execute_input": "2023-07-23T17:34:17.793034Z",
          "iopub.status.idle": "2023-07-23T17:34:17.806305Z",
          "shell.execute_reply.started": "2023-07-23T17:34:17.792996Z",
          "shell.execute_reply": "2023-07-23T17:34:17.805002Z"
        },
        "trusted": true,
        "id": "l2RWvorZ-ZJ0"
      },
      "execution_count": null,
      "outputs": []
    },
    {
      "cell_type": "code",
      "source": [
        "def update_coeffs(coeffs, lr):\n",
        "    for layer in coeffs:\n",
        "        layer.sub_(layer.grad * lr)\n",
        "        layer.grad.zero_()"
      ],
      "metadata": {
        "execution": {
          "iopub.status.busy": "2023-07-23T17:34:17.807853Z",
          "iopub.execute_input": "2023-07-23T17:34:17.808177Z",
          "iopub.status.idle": "2023-07-23T17:34:17.821628Z",
          "shell.execute_reply.started": "2023-07-23T17:34:17.808149Z",
          "shell.execute_reply": "2023-07-23T17:34:17.820450Z"
        },
        "trusted": true,
        "id": "igVIUBOW-ZJ0"
      },
      "execution_count": null,
      "outputs": []
    },
    {
      "cell_type": "code",
      "source": [
        "coeffs = train_model(lr=1.4)"
      ],
      "metadata": {
        "execution": {
          "iopub.status.busy": "2023-07-23T17:34:17.823214Z",
          "iopub.execute_input": "2023-07-23T17:34:17.823838Z",
          "iopub.status.idle": "2023-07-23T17:34:17.866734Z",
          "shell.execute_reply.started": "2023-07-23T17:34:17.823802Z",
          "shell.execute_reply": "2023-07-23T17:34:17.865859Z"
        },
        "trusted": true,
        "id": "_3dbJ_Ja-ZJ0",
        "outputId": "3a91e685-9214-432d-e27e-8be7c7ee5871"
      },
      "execution_count": null,
      "outputs": [
        {
          "name": "stdout",
          "text": "0.544; 0.533; 0.521; 0.507; 0.491; 0.470; 0.445; 0.416; 0.384; 0.352; 0.325; 0.304; 0.288; 0.275; 0.265; 0.256; 0.250; 0.245; 0.240; 0.237; 0.234; 0.231; 0.229; 0.227; 0.226; 0.225; 0.223; 0.222; 0.221; 0.220; ",
          "output_type": "stream"
        }
      ]
    },
    {
      "cell_type": "code",
      "source": [
        "coeffs = train_model(lr=20)"
      ],
      "metadata": {
        "execution": {
          "iopub.status.busy": "2023-07-23T17:34:17.868069Z",
          "iopub.execute_input": "2023-07-23T17:34:17.868563Z",
          "iopub.status.idle": "2023-07-23T17:34:17.889401Z",
          "shell.execute_reply.started": "2023-07-23T17:34:17.868532Z",
          "shell.execute_reply": "2023-07-23T17:34:17.888244Z"
        },
        "trusted": true,
        "id": "-sHM68tQ-ZJ0",
        "outputId": "8cb79c09-191c-48d4-f950-6325a3581e2e"
      },
      "execution_count": null,
      "outputs": [
        {
          "name": "stdout",
          "text": "0.544; 0.416; 0.256; 0.311; 0.212; 0.200; 0.198; 0.197; 0.196; 0.195; 0.194; 0.194; 0.194; 0.193; 0.193; 0.193; 0.193; 0.193; 0.193; 0.193; 0.193; 0.193; 0.193; 0.193; 0.193; 0.193; 0.193; 0.193; 0.193; 0.193; ",
          "output_type": "stream"
        }
      ]
    },
    {
      "cell_type": "code",
      "source": [
        "acc(coeffs)"
      ],
      "metadata": {
        "execution": {
          "iopub.status.busy": "2023-07-23T17:34:17.891162Z",
          "iopub.execute_input": "2023-07-23T17:34:17.891884Z",
          "iopub.status.idle": "2023-07-23T17:34:17.899952Z",
          "shell.execute_reply.started": "2023-07-23T17:34:17.891838Z",
          "shell.execute_reply": "2023-07-23T17:34:17.898762Z"
        },
        "trusted": true,
        "id": "45R-PtVh-ZJ1",
        "outputId": "49ec1d97-66cb-427f-cc91-2534a6f242a0"
      },
      "execution_count": null,
      "outputs": [
        {
          "execution_count": 74,
          "output_type": "execute_result",
          "data": {
            "text/plain": "tensor(0.8258)"
          },
          "metadata": {}
        }
      ]
    },
    {
      "cell_type": "code",
      "source": [
        "def init_coeffs():\n",
        "    hiddens = [10, 10]  # <-- set this to the size of each hidden layer you want\n",
        "    sizes = [n_coeff] + hiddens + [1]\n",
        "    n = len(sizes)\n",
        "    layers = [(torch.rand(sizes[i], sizes[i+1])-0.3)/sizes[i+1]*4 for i in range(n-1)]\n",
        "    consts = [(torch.rand(1)[0]-0.5)*0.1 for i in range(n-1)]\n",
        "    for l in layers+consts: l.requires_grad_()\n",
        "    return layers,consts"
      ],
      "metadata": {
        "execution": {
          "iopub.status.busy": "2023-07-23T17:34:17.901903Z",
          "iopub.execute_input": "2023-07-23T17:34:17.902601Z",
          "iopub.status.idle": "2023-07-23T17:34:17.910853Z",
          "shell.execute_reply.started": "2023-07-23T17:34:17.902557Z",
          "shell.execute_reply": "2023-07-23T17:34:17.909751Z"
        },
        "trusted": true,
        "id": "X0a20wIu-ZJ1"
      },
      "execution_count": null,
      "outputs": []
    },
    {
      "cell_type": "code",
      "source": [
        "import torch.nn.functional as F\n",
        "\n",
        "def calc_preds(coeffs, indeps):\n",
        "    layers,consts = coeffs\n",
        "    n = len(layers)\n",
        "    res = indeps\n",
        "    for i,l in enumerate(layers):\n",
        "        res = res@l + consts[i]\n",
        "        if i!=n-1: res = F.relu(res)\n",
        "    return torch.sigmoid(res)"
      ],
      "metadata": {
        "execution": {
          "iopub.status.busy": "2023-07-23T17:34:17.912518Z",
          "iopub.execute_input": "2023-07-23T17:34:17.912918Z",
          "iopub.status.idle": "2023-07-23T17:34:17.929354Z",
          "shell.execute_reply.started": "2023-07-23T17:34:17.912884Z",
          "shell.execute_reply": "2023-07-23T17:34:17.928470Z"
        },
        "trusted": true,
        "id": "_-ze2UUF-ZJ1"
      },
      "execution_count": null,
      "outputs": []
    },
    {
      "cell_type": "code",
      "source": [
        "def update_coeffs(coeffs, lr):\n",
        "    layers,consts = coeffs\n",
        "    for layer in layers+consts:\n",
        "        layer.sub_(layer.grad * lr)\n",
        "        layer.grad.zero_()"
      ],
      "metadata": {
        "execution": {
          "iopub.status.busy": "2023-07-23T17:34:17.931045Z",
          "iopub.execute_input": "2023-07-23T17:34:17.931398Z",
          "iopub.status.idle": "2023-07-23T17:34:17.944518Z",
          "shell.execute_reply.started": "2023-07-23T17:34:17.931367Z",
          "shell.execute_reply": "2023-07-23T17:34:17.943286Z"
        },
        "trusted": true,
        "id": "6cTJMuzm-ZJ1"
      },
      "execution_count": null,
      "outputs": []
    },
    {
      "cell_type": "code",
      "source": [
        "coeffs = train_model(lr=4)"
      ],
      "metadata": {
        "execution": {
          "iopub.status.busy": "2023-07-23T17:34:17.946169Z",
          "iopub.execute_input": "2023-07-23T17:34:17.946541Z",
          "iopub.status.idle": "2023-07-23T17:34:17.982559Z",
          "shell.execute_reply.started": "2023-07-23T17:34:17.946508Z",
          "shell.execute_reply": "2023-07-23T17:34:17.981394Z"
        },
        "trusted": true,
        "id": "_vi8kCSv-ZJ2",
        "outputId": "e4bf9aac-46ec-4d82-9d89-1bfe26b5a8e1"
      },
      "execution_count": null,
      "outputs": [
        {
          "name": "stdout",
          "text": "0.526; 0.483; 0.464; 0.378; 0.373; 0.361; 0.346; 0.356; 0.304; 0.214; 0.209; 0.207; 0.210; 0.202; 0.203; 0.202; 0.204; 0.198; 0.196; 0.195; 0.195; 0.194; 0.194; 0.194; 0.194; 0.194; 0.194; 0.194; 0.193; 0.193; ",
          "output_type": "stream"
        }
      ]
    },
    {
      "cell_type": "code",
      "source": [
        "acc(coeffs)"
      ],
      "metadata": {
        "execution": {
          "iopub.status.busy": "2023-07-23T17:34:17.984918Z",
          "iopub.execute_input": "2023-07-23T17:34:17.985888Z",
          "iopub.status.idle": "2023-07-23T17:34:17.994254Z",
          "shell.execute_reply.started": "2023-07-23T17:34:17.985842Z",
          "shell.execute_reply": "2023-07-23T17:34:17.993053Z"
        },
        "trusted": true,
        "id": "k_Y5OBij-ZJ2",
        "outputId": "6fedfbed-0f2c-48fe-b7d6-b6add3776043"
      },
      "execution_count": null,
      "outputs": [
        {
          "execution_count": 79,
          "output_type": "execute_result",
          "data": {
            "text/plain": "tensor(0.8258)"
          },
          "metadata": {}
        }
      ]
    },
    {
      "cell_type": "code",
      "source": [],
      "metadata": {
        "id": "2VOWh2Kh-ZJ2"
      },
      "execution_count": null,
      "outputs": []
    },
    {
      "cell_type": "code",
      "source": [
        "from pathlib import Path\n",
        "import os\n",
        "\n",
        "iskaggle = os.environ.get('KAGGLE_KERNEL_RUN_TYPE', '')\n",
        "if iskaggle:\n",
        "    path = Path('../input/titanic')\n",
        "    !pip install -Uqq fastai\n",
        "else:\n",
        "    import zipfile,kaggle\n",
        "    path = Path('titanic')\n",
        "    if not path.exists():\n",
        "        kaggle.api.competition_download_cli(str(path))\n",
        "        zipfile.ZipFile(f'{path}.zip').extractall(path)"
      ],
      "metadata": {
        "execution": {
          "iopub.status.busy": "2023-07-23T17:34:17.998283Z",
          "iopub.execute_input": "2023-07-23T17:34:17.998630Z",
          "iopub.status.idle": "2023-07-23T17:34:33.790393Z",
          "shell.execute_reply.started": "2023-07-23T17:34:17.998599Z",
          "shell.execute_reply": "2023-07-23T17:34:33.788622Z"
        },
        "trusted": true,
        "id": "z6oQJEN--ZJ2"
      },
      "execution_count": null,
      "outputs": []
    },
    {
      "cell_type": "code",
      "source": [
        "from fastai.tabular.all import *\n",
        "\n",
        "pd.options.display.float_format = '{:.2f}'.format\n",
        "set_seed(42)"
      ],
      "metadata": {
        "execution": {
          "iopub.status.busy": "2023-07-23T17:34:33.792556Z",
          "iopub.execute_input": "2023-07-23T17:34:33.793017Z",
          "iopub.status.idle": "2023-07-23T17:34:33.862516Z",
          "shell.execute_reply.started": "2023-07-23T17:34:33.792976Z",
          "shell.execute_reply": "2023-07-23T17:34:33.861254Z"
        },
        "trusted": true,
        "id": "3BRGTaF_-ZJ2"
      },
      "execution_count": null,
      "outputs": []
    },
    {
      "cell_type": "code",
      "source": [
        "df = pd.read_csv(path/'train.csv')"
      ],
      "metadata": {
        "execution": {
          "iopub.status.busy": "2023-07-23T17:34:33.864346Z",
          "iopub.execute_input": "2023-07-23T17:34:33.864723Z",
          "iopub.status.idle": "2023-07-23T17:34:33.879753Z",
          "shell.execute_reply.started": "2023-07-23T17:34:33.864666Z",
          "shell.execute_reply": "2023-07-23T17:34:33.878586Z"
        },
        "trusted": true,
        "id": "sxnjXp1a-ZJ2"
      },
      "execution_count": null,
      "outputs": []
    },
    {
      "cell_type": "code",
      "source": [
        "def add_features(df):\n",
        "    df['LogFare'] = np.log1p(df['Fare'])\n",
        "    df['Deck'] = df.Cabin.str[0].map(dict(A=\"ABC\", B=\"ABC\", C=\"ABC\", D=\"DE\", E=\"DE\", F=\"FG\", G=\"FG\"))\n",
        "    df['Family'] = df.SibSp+df.Parch\n",
        "    df['Alone'] = df.Family==0\n",
        "    df['TicketFreq'] = df.groupby('Ticket')['Ticket'].transform('count')\n",
        "    df['Title'] = df.Name.str.split(', ', expand=True)[1].str.split('.', expand=True)[0]\n",
        "    df['Title'] = df.Title.map(dict(Mr=\"Mr\",Miss=\"Miss\",Mrs=\"Mrs\",Master=\"Master\"))\n",
        "\n",
        "add_features(df)"
      ],
      "metadata": {
        "execution": {
          "iopub.status.busy": "2023-07-23T17:34:33.881132Z",
          "iopub.execute_input": "2023-07-23T17:34:33.881477Z",
          "iopub.status.idle": "2023-07-23T17:34:33.907292Z",
          "shell.execute_reply.started": "2023-07-23T17:34:33.881446Z",
          "shell.execute_reply": "2023-07-23T17:34:33.905668Z"
        },
        "trusted": true,
        "id": "UHEYnxHQ-ZJ3"
      },
      "execution_count": null,
      "outputs": []
    },
    {
      "cell_type": "code",
      "source": [
        "splits = RandomSplitter(seed=42)(df)"
      ],
      "metadata": {
        "execution": {
          "iopub.status.busy": "2023-07-23T17:34:33.921614Z",
          "iopub.execute_input": "2023-07-23T17:34:33.922037Z",
          "iopub.status.idle": "2023-07-23T17:34:33.928332Z",
          "shell.execute_reply.started": "2023-07-23T17:34:33.922000Z",
          "shell.execute_reply": "2023-07-23T17:34:33.927091Z"
        },
        "trusted": true,
        "id": "zp79GHKu-ZJ3"
      },
      "execution_count": null,
      "outputs": []
    },
    {
      "cell_type": "code",
      "source": [
        "dls = TabularPandas(\n",
        "    df, splits=splits,\n",
        "    procs = [Categorify, FillMissing, Normalize],\n",
        "    cat_names=[\"Sex\",\"Pclass\",\"Embarked\",\"Deck\", \"Title\"],\n",
        "    cont_names=['Age', 'SibSp', 'Parch', 'LogFare', 'Alone', 'TicketFreq', 'Family'],\n",
        "    y_names=\"Survived\", y_block = CategoryBlock(),\n",
        ").dataloaders(path=\".\")"
      ],
      "metadata": {
        "execution": {
          "iopub.status.busy": "2023-07-23T17:34:33.929822Z",
          "iopub.execute_input": "2023-07-23T17:34:33.930220Z",
          "iopub.status.idle": "2023-07-23T17:34:34.009379Z",
          "shell.execute_reply.started": "2023-07-23T17:34:33.930188Z",
          "shell.execute_reply": "2023-07-23T17:34:34.008072Z"
        },
        "trusted": true,
        "id": "qq6HXuil-ZJ3"
      },
      "execution_count": null,
      "outputs": []
    },
    {
      "cell_type": "code",
      "source": [
        "splits=splits,"
      ],
      "metadata": {
        "execution": {
          "iopub.status.busy": "2023-07-23T17:34:34.010645Z",
          "iopub.execute_input": "2023-07-23T17:34:34.010999Z",
          "iopub.status.idle": "2023-07-23T17:34:34.016779Z",
          "shell.execute_reply.started": "2023-07-23T17:34:34.010969Z",
          "shell.execute_reply": "2023-07-23T17:34:34.015621Z"
        },
        "trusted": true,
        "id": "uv4sSga0-ZJ3"
      },
      "execution_count": null,
      "outputs": []
    },
    {
      "cell_type": "code",
      "source": [
        "procs = [Categorify, FillMissing, Normalize],"
      ],
      "metadata": {
        "execution": {
          "iopub.status.busy": "2023-07-23T17:34:34.018288Z",
          "iopub.execute_input": "2023-07-23T17:34:34.019590Z",
          "iopub.status.idle": "2023-07-23T17:34:34.029820Z",
          "shell.execute_reply.started": "2023-07-23T17:34:34.019540Z",
          "shell.execute_reply": "2023-07-23T17:34:34.028588Z"
        },
        "trusted": true,
        "id": "9b6XBwv_-ZJ3"
      },
      "execution_count": null,
      "outputs": []
    },
    {
      "cell_type": "code",
      "source": [
        "cat_names=[\"Sex\",\"Pclass\",\"Embarked\",\"Deck\", \"Title\"],"
      ],
      "metadata": {
        "execution": {
          "iopub.status.busy": "2023-07-23T17:34:34.031231Z",
          "iopub.execute_input": "2023-07-23T17:34:34.031580Z",
          "iopub.status.idle": "2023-07-23T17:34:34.043502Z",
          "shell.execute_reply.started": "2023-07-23T17:34:34.031550Z",
          "shell.execute_reply": "2023-07-23T17:34:34.042287Z"
        },
        "trusted": true,
        "id": "Fp0FkLVz-ZJ3"
      },
      "execution_count": null,
      "outputs": []
    },
    {
      "cell_type": "code",
      "source": [
        "cont_names=['Age', 'SibSp', 'Parch', 'LogFare', 'Alone', 'TicketFreq', 'Family'],"
      ],
      "metadata": {
        "execution": {
          "iopub.status.busy": "2023-07-23T17:34:34.045207Z",
          "iopub.execute_input": "2023-07-23T17:34:34.045638Z",
          "iopub.status.idle": "2023-07-23T17:34:34.056162Z",
          "shell.execute_reply.started": "2023-07-23T17:34:34.045584Z",
          "shell.execute_reply": "2023-07-23T17:34:34.055274Z"
        },
        "trusted": true,
        "id": "mDf7YShB-ZJ4"
      },
      "execution_count": null,
      "outputs": []
    },
    {
      "cell_type": "code",
      "source": [
        "y_names=\"Survived\","
      ],
      "metadata": {
        "execution": {
          "iopub.status.busy": "2023-07-23T17:34:34.057429Z",
          "iopub.execute_input": "2023-07-23T17:34:34.058356Z",
          "iopub.status.idle": "2023-07-23T17:34:34.070788Z",
          "shell.execute_reply.started": "2023-07-23T17:34:34.058321Z",
          "shell.execute_reply": "2023-07-23T17:34:34.069630Z"
        },
        "trusted": true,
        "id": "XWwBwV7F-ZJ4"
      },
      "execution_count": null,
      "outputs": []
    },
    {
      "cell_type": "code",
      "source": [
        "y_block = CategoryBlock(),"
      ],
      "metadata": {
        "execution": {
          "iopub.status.busy": "2023-07-23T17:34:34.072239Z",
          "iopub.execute_input": "2023-07-23T17:34:34.072878Z",
          "iopub.status.idle": "2023-07-23T17:34:34.084245Z",
          "shell.execute_reply.started": "2023-07-23T17:34:34.072842Z",
          "shell.execute_reply": "2023-07-23T17:34:34.083329Z"
        },
        "trusted": true,
        "id": "YnhILnKM-ZJ4"
      },
      "execution_count": null,
      "outputs": []
    },
    {
      "cell_type": "code",
      "source": [
        "learn = tabular_learner(dls, metrics=accuracy, layers=[10,10])"
      ],
      "metadata": {
        "execution": {
          "iopub.status.busy": "2023-07-23T17:34:34.085826Z",
          "iopub.execute_input": "2023-07-23T17:34:34.086476Z",
          "iopub.status.idle": "2023-07-23T17:34:34.106741Z",
          "shell.execute_reply.started": "2023-07-23T17:34:34.086440Z",
          "shell.execute_reply": "2023-07-23T17:34:34.105734Z"
        },
        "trusted": true,
        "id": "t1HgR2bx-ZJ4"
      },
      "execution_count": null,
      "outputs": []
    },
    {
      "cell_type": "code",
      "source": [
        "learn.lr_find(suggest_funcs=(slide, valley))"
      ],
      "metadata": {
        "execution": {
          "iopub.status.busy": "2023-07-23T17:34:34.108478Z",
          "iopub.execute_input": "2023-07-23T17:34:34.108989Z",
          "iopub.status.idle": "2023-07-23T17:34:36.375476Z",
          "shell.execute_reply.started": "2023-07-23T17:34:34.108957Z",
          "shell.execute_reply": "2023-07-23T17:34:36.374304Z"
        },
        "trusted": true,
        "id": "_Zg22miq-ZJ4",
        "outputId": "f7571a3a-7434-41ca-d055-d1deecd74b65"
      },
      "execution_count": null,
      "outputs": [
        {
          "output_type": "display_data",
          "data": {
            "text/plain": "<IPython.core.display.HTML object>",
            "text/html": "\n<style>\n    /* Turns off some styling */\n    progress {\n        /* gets rid of default border in Firefox and Opera. */\n        border: none;\n        /* Needs to be in here for Safari polyfill so background images work as expected. */\n        background-size: auto;\n    }\n    progress:not([value]), progress:not([value])::-webkit-progress-bar {\n        background: repeating-linear-gradient(45deg, #7e7e7e, #7e7e7e 10px, #5c5c5c 10px, #5c5c5c 20px);\n    }\n    .progress-bar-interrupted, .progress-bar-interrupted::-webkit-progress-bar {\n        background: #F44336;\n    }\n</style>\n"
          },
          "metadata": {}
        },
        {
          "output_type": "display_data",
          "data": {
            "text/plain": "<IPython.core.display.HTML object>",
            "text/html": ""
          },
          "metadata": {}
        },
        {
          "execution_count": 93,
          "output_type": "execute_result",
          "data": {
            "text/plain": "SuggestedLRs(slide=0.05754399299621582, valley=0.013182567432522774)"
          },
          "metadata": {}
        },
        {
          "output_type": "display_data",
          "data": {
            "text/plain": "<Figure size 640x480 with 1 Axes>",
            "image/png": "[encoded data removed]"
          },
          "metadata": {}
        }
      ]
    },
    {
      "cell_type": "code",
      "source": [
        "learn.fit(16, lr=0.03)"
      ],
      "metadata": {
        "execution": {
          "iopub.status.busy": "2023-07-23T17:34:36.377211Z",
          "iopub.execute_input": "2023-07-23T17:34:36.378497Z",
          "iopub.status.idle": "2023-07-23T17:34:39.132140Z",
          "shell.execute_reply.started": "2023-07-23T17:34:36.378456Z",
          "shell.execute_reply": "2023-07-23T17:34:39.131020Z"
        },
        "trusted": true,
        "id": "UXyMvpm--ZJ5",
        "outputId": "e7235ccc-ddbe-4d04-fd82-3bd233af436d"
      },
      "execution_count": null,
      "outputs": [
        {
          "output_type": "display_data",
          "data": {
            "text/plain": "<IPython.core.display.HTML object>",
            "text/html": "\n<style>\n    /* Turns off some styling */\n    progress {\n        /* gets rid of default border in Firefox and Opera. */\n        border: none;\n        /* Needs to be in here for Safari polyfill so background images work as expected. */\n        background-size: auto;\n    }\n    progress:not([value]), progress:not([value])::-webkit-progress-bar {\n        background: repeating-linear-gradient(45deg, #7e7e7e, #7e7e7e 10px, #5c5c5c 10px, #5c5c5c 20px);\n    }\n    .progress-bar-interrupted, .progress-bar-interrupted::-webkit-progress-bar {\n        background: #F44336;\n    }\n</style>\n"
          },
          "metadata": {}
        },
        {
          "output_type": "display_data",
          "data": {
            "text/plain": "<IPython.core.display.HTML object>",
            "text/html": "<table border=\"1\" class=\"dataframe\">\n  <thead>\n    <tr style=\"text-align: left;\">\n      <th>epoch</th>\n      <th>train_loss</th>\n      <th>valid_loss</th>\n      <th>accuracy</th>\n      <th>time</th>\n    </tr>\n  </thead>\n  <tbody>\n    <tr>\n      <td>0</td>\n      <td>0.577146</td>\n      <td>0.582949</td>\n      <td>0.606742</td>\n      <td>00:00</td>\n    </tr>\n    <tr>\n      <td>1</td>\n      <td>0.510818</td>\n      <td>0.498523</td>\n      <td>0.786517</td>\n      <td>00:00</td>\n    </tr>\n    <tr>\n      <td>2</td>\n      <td>0.467023</td>\n      <td>0.459841</td>\n      <td>0.797753</td>\n      <td>00:00</td>\n    </tr>\n    <tr>\n      <td>3</td>\n      <td>0.439957</td>\n      <td>0.468547</td>\n      <td>0.797753</td>\n      <td>00:00</td>\n    </tr>\n    <tr>\n      <td>4</td>\n      <td>0.427232</td>\n      <td>0.415261</td>\n      <td>0.825843</td>\n      <td>00:00</td>\n    </tr>\n    <tr>\n      <td>5</td>\n      <td>0.416340</td>\n      <td>0.437362</td>\n      <td>0.820225</td>\n      <td>00:00</td>\n    </tr>\n    <tr>\n      <td>6</td>\n      <td>0.408347</td>\n      <td>0.413253</td>\n      <td>0.848315</td>\n      <td>00:00</td>\n    </tr>\n    <tr>\n      <td>7</td>\n      <td>0.400442</td>\n      <td>0.406075</td>\n      <td>0.803371</td>\n      <td>00:00</td>\n    </tr>\n    <tr>\n      <td>8</td>\n      <td>0.397265</td>\n      <td>0.443730</td>\n      <td>0.820225</td>\n      <td>00:00</td>\n    </tr>\n    <tr>\n      <td>9</td>\n      <td>0.392389</td>\n      <td>0.432267</td>\n      <td>0.831461</td>\n      <td>00:00</td>\n    </tr>\n    <tr>\n      <td>10</td>\n      <td>0.389983</td>\n      <td>0.415383</td>\n      <td>0.831461</td>\n      <td>00:00</td>\n    </tr>\n    <tr>\n      <td>11</td>\n      <td>0.386057</td>\n      <td>0.425319</td>\n      <td>0.820225</td>\n      <td>00:00</td>\n    </tr>\n    <tr>\n      <td>12</td>\n      <td>0.382527</td>\n      <td>0.435054</td>\n      <td>0.831461</td>\n      <td>00:00</td>\n    </tr>\n    <tr>\n      <td>13</td>\n      <td>0.378309</td>\n      <td>0.429746</td>\n      <td>0.831461</td>\n      <td>00:00</td>\n    </tr>\n    <tr>\n      <td>14</td>\n      <td>0.374304</td>\n      <td>0.419489</td>\n      <td>0.825843</td>\n      <td>00:00</td>\n    </tr>\n    <tr>\n      <td>15</td>\n      <td>0.372190</td>\n      <td>0.425431</td>\n      <td>0.831461</td>\n      <td>00:00</td>\n    </tr>\n  </tbody>\n</table>"
          },
          "metadata": {}
        }
      ]
    },
    {
      "cell_type": "code",
      "source": [
        "tst_df = pd.read_csv(path/'test.csv')\n",
        "tst_df['Fare'] = tst_df.Fare.fillna(0)\n",
        "add_features(tst_df)"
      ],
      "metadata": {
        "execution": {
          "iopub.status.busy": "2023-07-23T17:34:39.135559Z",
          "iopub.execute_input": "2023-07-23T17:34:39.135954Z",
          "iopub.status.idle": "2023-07-23T17:34:39.160051Z",
          "shell.execute_reply.started": "2023-07-23T17:34:39.135919Z",
          "shell.execute_reply": "2023-07-23T17:34:39.158948Z"
        },
        "trusted": true,
        "id": "axyqT5pc-ZJ5"
      },
      "execution_count": null,
      "outputs": []
    },
    {
      "cell_type": "code",
      "source": [
        "tst_dl = learn.dls.test_dl(tst_df)"
      ],
      "metadata": {
        "execution": {
          "iopub.status.busy": "2023-07-23T17:34:39.161345Z",
          "iopub.execute_input": "2023-07-23T17:34:39.161684Z",
          "iopub.status.idle": "2023-07-23T17:34:39.184082Z",
          "shell.execute_reply.started": "2023-07-23T17:34:39.161634Z",
          "shell.execute_reply": "2023-07-23T17:34:39.182756Z"
        },
        "trusted": true,
        "id": "WogIqV1I-ZJ5"
      },
      "execution_count": null,
      "outputs": []
    },
    {
      "cell_type": "code",
      "source": [
        "preds,_ = learn.get_preds(dl=tst_dl)"
      ],
      "metadata": {
        "execution": {
          "iopub.status.busy": "2023-07-23T17:34:39.185553Z",
          "iopub.execute_input": "2023-07-23T17:34:39.185930Z",
          "iopub.status.idle": "2023-07-23T17:34:39.257101Z",
          "shell.execute_reply.started": "2023-07-23T17:34:39.185896Z",
          "shell.execute_reply": "2023-07-23T17:34:39.256039Z"
        },
        "trusted": true,
        "id": "9N6kVFJw-ZJ5",
        "outputId": "4cb016a5-b7b0-4759-be84-86d2a1cc4583"
      },
      "execution_count": null,
      "outputs": [
        {
          "output_type": "display_data",
          "data": {
            "text/plain": "<IPython.core.display.HTML object>",
            "text/html": "\n<style>\n    /* Turns off some styling */\n    progress {\n        /* gets rid of default border in Firefox and Opera. */\n        border: none;\n        /* Needs to be in here for Safari polyfill so background images work as expected. */\n        background-size: auto;\n    }\n    progress:not([value]), progress:not([value])::-webkit-progress-bar {\n        background: repeating-linear-gradient(45deg, #7e7e7e, #7e7e7e 10px, #5c5c5c 10px, #5c5c5c 20px);\n    }\n    .progress-bar-interrupted, .progress-bar-interrupted::-webkit-progress-bar {\n        background: #F44336;\n    }\n</style>\n"
          },
          "metadata": {}
        },
        {
          "output_type": "display_data",
          "data": {
            "text/plain": "<IPython.core.display.HTML object>",
            "text/html": ""
          },
          "metadata": {}
        }
      ]
    },
    {
      "cell_type": "code",
      "source": [
        "tst_df['Survived'] = (preds[:,1]>0.5).int()\n",
        "sub_df = tst_df[['PassengerId','Survived']]\n",
        "sub_df.to_csv('sub.csv', index=False)"
      ],
      "metadata": {
        "execution": {
          "iopub.status.busy": "2023-07-23T17:34:39.258297Z",
          "iopub.execute_input": "2023-07-23T17:34:39.258876Z",
          "iopub.status.idle": "2023-07-23T17:34:39.270086Z",
          "shell.execute_reply.started": "2023-07-23T17:34:39.258842Z",
          "shell.execute_reply": "2023-07-23T17:34:39.268958Z"
        },
        "trusted": true,
        "id": "NwwMGtS7-ZJ5"
      },
      "execution_count": null,
      "outputs": []
    },
    {
      "cell_type": "code",
      "source": [
        "!head sub.csv"
      ],
      "metadata": {
        "execution": {
          "iopub.status.busy": "2023-07-23T17:34:39.271254Z",
          "iopub.execute_input": "2023-07-23T17:34:39.271902Z",
          "iopub.status.idle": "2023-07-23T17:34:40.395811Z",
          "shell.execute_reply.started": "2023-07-23T17:34:39.271868Z",
          "shell.execute_reply": "2023-07-23T17:34:40.394267Z"
        },
        "trusted": true,
        "id": "eNKIMHOz-ZJ5",
        "outputId": "ca4c3719-22b7-4535-ba65-f1b66d9f3728"
      },
      "execution_count": null,
      "outputs": [
        {
          "name": "stdout",
          "text": "PassengerId,Survived\n892,0\n893,0\n894,0\n895,0\n896,1\n897,0\n898,1\n899,0\n900,1\n",
          "output_type": "stream"
        }
      ]
    },
    {
      "cell_type": "code",
      "source": [
        "def ensemble():\n",
        "    learn = tabular_learner(dls, metrics=accuracy, layers=[10,10])\n",
        "    with learn.no_bar(),learn.no_logging(): learn.fit(16, lr=0.03)\n",
        "    return learn.get_preds(dl=tst_dl)[0]"
      ],
      "metadata": {
        "execution": {
          "iopub.status.busy": "2023-07-23T17:34:40.397923Z",
          "iopub.execute_input": "2023-07-23T17:34:40.398330Z",
          "iopub.status.idle": "2023-07-23T17:34:40.405870Z",
          "shell.execute_reply.started": "2023-07-23T17:34:40.398291Z",
          "shell.execute_reply": "2023-07-23T17:34:40.404590Z"
        },
        "trusted": true,
        "id": "zr_bPNwZ-ZJ6"
      },
      "execution_count": null,
      "outputs": []
    },
    {
      "cell_type": "code",
      "source": [
        "learns = [ensemble() for _ in range(5)]"
      ],
      "metadata": {
        "execution": {
          "iopub.status.busy": "2023-07-23T17:34:40.407766Z",
          "iopub.execute_input": "2023-07-23T17:34:40.408223Z",
          "iopub.status.idle": "2023-07-23T17:34:51.086494Z",
          "shell.execute_reply.started": "2023-07-23T17:34:40.408179Z",
          "shell.execute_reply": "2023-07-23T17:34:51.084917Z"
        },
        "trusted": true,
        "id": "qOliCyIl-ZJ6",
        "outputId": "206e25d3-bb24-44db-df0a-3a1ade662028"
      },
      "execution_count": null,
      "outputs": [
        {
          "output_type": "display_data",
          "data": {
            "text/plain": "<IPython.core.display.HTML object>",
            "text/html": "\n<style>\n    /* Turns off some styling */\n    progress {\n        /* gets rid of default border in Firefox and Opera. */\n        border: none;\n        /* Needs to be in here for Safari polyfill so background images work as expected. */\n        background-size: auto;\n    }\n    progress:not([value]), progress:not([value])::-webkit-progress-bar {\n        background: repeating-linear-gradient(45deg, #7e7e7e, #7e7e7e 10px, #5c5c5c 10px, #5c5c5c 20px);\n    }\n    .progress-bar-interrupted, .progress-bar-interrupted::-webkit-progress-bar {\n        background: #F44336;\n    }\n</style>\n"
          },
          "metadata": {}
        },
        {
          "output_type": "display_data",
          "data": {
            "text/plain": "<IPython.core.display.HTML object>",
            "text/html": ""
          },
          "metadata": {}
        },
        {
          "output_type": "display_data",
          "data": {
            "text/plain": "<IPython.core.display.HTML object>",
            "text/html": "\n<style>\n    /* Turns off some styling */\n    progress {\n        /* gets rid of default border in Firefox and Opera. */\n        border: none;\n        /* Needs to be in here for Safari polyfill so background images work as expected. */\n        background-size: auto;\n    }\n    progress:not([value]), progress:not([value])::-webkit-progress-bar {\n        background: repeating-linear-gradient(45deg, #7e7e7e, #7e7e7e 10px, #5c5c5c 10px, #5c5c5c 20px);\n    }\n    .progress-bar-interrupted, .progress-bar-interrupted::-webkit-progress-bar {\n        background: #F44336;\n    }\n</style>\n"
          },
          "metadata": {}
        },
        {
          "output_type": "display_data",
          "data": {
            "text/plain": "<IPython.core.display.HTML object>",
            "text/html": ""
          },
          "metadata": {}
        },
        {
          "output_type": "display_data",
          "data": {
            "text/plain": "<IPython.core.display.HTML object>",
            "text/html": "\n<style>\n    /* Turns off some styling */\n    progress {\n        /* gets rid of default border in Firefox and Opera. */\n        border: none;\n        /* Needs to be in here for Safari polyfill so background images work as expected. */\n        background-size: auto;\n    }\n    progress:not([value]), progress:not([value])::-webkit-progress-bar {\n        background: repeating-linear-gradient(45deg, #7e7e7e, #7e7e7e 10px, #5c5c5c 10px, #5c5c5c 20px);\n    }\n    .progress-bar-interrupted, .progress-bar-interrupted::-webkit-progress-bar {\n        background: #F44336;\n    }\n</style>\n"
          },
          "metadata": {}
        },
        {
          "output_type": "display_data",
          "data": {
            "text/plain": "<IPython.core.display.HTML object>",
            "text/html": ""
          },
          "metadata": {}
        },
        {
          "output_type": "display_data",
          "data": {
            "text/plain": "<IPython.core.display.HTML object>",
            "text/html": "\n<style>\n    /* Turns off some styling */\n    progress {\n        /* gets rid of default border in Firefox and Opera. */\n        border: none;\n        /* Needs to be in here for Safari polyfill so background images work as expected. */\n        background-size: auto;\n    }\n    progress:not([value]), progress:not([value])::-webkit-progress-bar {\n        background: repeating-linear-gradient(45deg, #7e7e7e, #7e7e7e 10px, #5c5c5c 10px, #5c5c5c 20px);\n    }\n    .progress-bar-interrupted, .progress-bar-interrupted::-webkit-progress-bar {\n        background: #F44336;\n    }\n</style>\n"
          },
          "metadata": {}
        },
        {
          "output_type": "display_data",
          "data": {
            "text/plain": "<IPython.core.display.HTML object>",
            "text/html": ""
          },
          "metadata": {}
        },
        {
          "output_type": "display_data",
          "data": {
            "text/plain": "<IPython.core.display.HTML object>",
            "text/html": "\n<style>\n    /* Turns off some styling */\n    progress {\n        /* gets rid of default border in Firefox and Opera. */\n        border: none;\n        /* Needs to be in here for Safari polyfill so background images work as expected. */\n        background-size: auto;\n    }\n    progress:not([value]), progress:not([value])::-webkit-progress-bar {\n        background: repeating-linear-gradient(45deg, #7e7e7e, #7e7e7e 10px, #5c5c5c 10px, #5c5c5c 20px);\n    }\n    .progress-bar-interrupted, .progress-bar-interrupted::-webkit-progress-bar {\n        background: #F44336;\n    }\n</style>\n"
          },
          "metadata": {}
        },
        {
          "output_type": "display_data",
          "data": {
            "text/plain": "<IPython.core.display.HTML object>",
            "text/html": ""
          },
          "metadata": {}
        }
      ]
    },
    {
      "cell_type": "code",
      "source": [
        "ens_preds = torch.stack(learns).mean(0)"
      ],
      "metadata": {
        "execution": {
          "iopub.status.busy": "2023-07-23T17:34:51.088518Z",
          "iopub.execute_input": "2023-07-23T17:34:51.088901Z",
          "iopub.status.idle": "2023-07-23T17:34:51.094911Z",
          "shell.execute_reply.started": "2023-07-23T17:34:51.088868Z",
          "shell.execute_reply": "2023-07-23T17:34:51.093631Z"
        },
        "trusted": true,
        "id": "sgmvui6e-ZJ6"
      },
      "execution_count": null,
      "outputs": []
    },
    {
      "cell_type": "code",
      "source": [
        "tst_df['Survived'] = (ens_preds[:,1]>0.5).int()\n",
        "sub_df = tst_df[['PassengerId','Survived']]\n",
        "sub_df.to_csv('ens_sub.csv', index=False)"
      ],
      "metadata": {
        "execution": {
          "iopub.status.busy": "2023-07-23T17:34:51.096413Z",
          "iopub.execute_input": "2023-07-23T17:34:51.097161Z",
          "iopub.status.idle": "2023-07-23T17:34:51.114122Z",
          "shell.execute_reply.started": "2023-07-23T17:34:51.097126Z",
          "shell.execute_reply": "2023-07-23T17:34:51.112907Z"
        },
        "trusted": true,
        "id": "9mObKbPq-ZJ7"
      },
      "execution_count": null,
      "outputs": []
    },
    {
      "cell_type": "code",
      "source": [],
      "metadata": {
        "id": "vzW9EyEF-ZJ7"
      },
      "execution_count": null,
      "outputs": []
    }
  ]
}