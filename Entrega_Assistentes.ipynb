{
  "metadata": {
    "kernelspec": {
      "language": "python",
      "display_name": "Python 3",
      "name": "python3"
    },
    "language_info": {
      "name": "python",
      "version": "3.10.10",
      "mimetype": "text/x-python",
      "codemirror_mode": {
        "name": "ipython",
        "version": 3
      },
      "pygments_lexer": "ipython3",
      "nbconvert_exporter": "python",
      "file_extension": ".py"
    },
    "colab": {
      "provenance": [],
      "include_colab_link": true
    }
  },
  "nbformat_minor": 0,
  "nbformat": 4,
  "cells": [
    {
      "cell_type": "markdown",
      "metadata": {
        "id": "view-in-github",
        "colab_type": "text"
      },
      "source": [
        "<a href=\"https://colab.research.google.com/github/nic0ly/lia1-2023-1/blob/main/Entrega_Assistentes.ipynb\" target=\"_parent\"><img src=\"https://colab.research.google.com/assets/colab-badge.svg\" alt=\"Open In Colab\"/></a>"
      ]
    },
    {
      "cell_type": "code",
      "source": [
        "#Assistente Online\n",
        "\n",
        "import speech_recognition as sr \n",
        "\n",
        "r = sr.Recognizer()\n",
        "\n",
        "with sr.Microphone() as source:\n",
        "    while True:\n",
        "        audio = r.listen(source)\n",
        "\n",
        "        try: \n",
        "            fala = r.recognize_google(audio, language = 'pt')\n",
        "            print(fala)\n",
        "        \n",
        "        except sr.exceptions.UnknownValueError:\n",
        "            print(\"\n",
        "        \n",
        "        from vosk import Model, KaldiRecognizer\n",
        "        \n",
        "        \n",
        "# Assistente Offline\n",
        "\n",
        "import os\n",
        "import pyaudio\n",
        "\n",
        "model = Model('C:\\\\Users\\\\nicol\\Downloads\\\\vosk-model-small-pt-0.3 (1)\\\\vosk-model-small-pt-0.3')\n",
        "rec = KaldiRecognizer(model, 16000)\n",
        "\n",
        "p = pyaudio.PyAudio()\n",
        "stream = p.open(format=pyaudio.paInt16, channels=1, rate=1600, input=True, frames_per_buffer=8000)\n",
        "stream.start_stream()\n",
        "\n",
        "while True:\n",
        "    data = stream.read(4000)\n",
        "    if len(data) == 0:\n",
        "        break\n",
        "    if rec.AcceptWaveform(data):\n",
        "        print(rec.Result())\n",
        "    else:\n",
        "        print(rec.PartialResult())\n",
        "\n",
        "    print(rec.FinalResult())Não entendi\")"
      ],
      "metadata": {
        "_uuid": "8ae41156-287a-4db2-9531-09820992e48e",
        "_cell_guid": "dda1e280-5bbf-4067-ac4d-4c3a515b4d63",
        "jupyter": {
          "outputs_hidden": false
        },
        "trusted": true,
        "id": "ChN2aM3AtUjv"
      },
      "execution_count": null,
      "outputs": []
    }
  ]
}