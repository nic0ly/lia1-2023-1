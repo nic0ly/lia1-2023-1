{
  "metadata": {
    "kernelspec": {
      "name": "python3",
      "display_name": "Python 3",
      "language": "python"
    },
    "language_info": {
      "name": "python",
      "version": "3.10.10",
      "mimetype": "text/x-python",
      "codemirror_mode": {
        "name": "ipython",
        "version": 3
      },
      "pygments_lexer": "ipython3",
      "nbconvert_exporter": "python",
      "file_extension": ".py"
    },
    "colab": {
      "provenance": [],
      "include_colab_link": true
    }
  },
  "nbformat_minor": 5,
  "nbformat": 4,
  "cells": [
    {
      "cell_type": "markdown",
      "metadata": {
        "id": "view-in-github",
        "colab_type": "text"
      },
      "source": [
        "<a href=\"https://colab.research.google.com/github/nic0ly/lia1-2023-1/blob/main/lia1_aula_06.ipynb\" target=\"_parent\"><img src=\"https://colab.research.google.com/assets/colab-badge.svg\" alt=\"Open In Colab\"/></a>"
      ]
    },
    {
      "cell_type": "markdown",
      "source": [
        "<hr style=\"height:10px\"> \n",
        " \n",
        "<div class='container2'>\n",
        "\t\t<div>\n",
        "\t\t\t<img src='images\\header.png' ALIGN='left' style='width:10em'>\n",
        "\t\t</div>\t\n",
        "\t<div style='padding: 0 7em 2em 12em;'>\n",
        "\t<h1>Laboratório de Inovação e Automação 1 (LIA 1)</h1>\n",
        "\t<div style=\"font-size:12pt;float:left;\"> 2023/1 | 46M34 | Sala 200 CAE</div><br><br>\n",
        "    <div style=\"font-size:12pt;float:left;\"><b>Projetos de Inteligência Artificial</b></div>\n",
        "\t</div>\n",
        "</div>\n",
        "\n",
        "\n",
        " <hr style=\"height:5px\"> \n",
        "\n",
        "    \n",
        "<h2>Aula 7 - Introdução à Ciência de Dados - Iris Dataset</h2>\n",
        "\n",
        "Notebook desenvolvido por: <a href=\"http://lattes.cnpq.br/1346824250595330\">Prof. Dr. Adriano C. Santana</a>\n",
        "\n",
        " <hr style=\"height:2px\"> "
      ],
      "metadata": {
        "id": "uORxUK049Azz"
      },
      "id": "uORxUK049Azz"
    },
    {
      "cell_type": "code",
      "source": [
        "# Confirmar a versão da Linguagem Python instalada\n",
        "from platform import python_version\n",
        "print(f'A versão da linguagem Python usada neste projeto é a {python_version()}!')"
      ],
      "metadata": {
        "execution": {
          "iopub.status.busy": "2023-05-12T15:48:27.964367Z",
          "iopub.execute_input": "2023-05-12T15:48:27.964777Z",
          "iopub.status.idle": "2023-05-12T15:48:28.006353Z",
          "shell.execute_reply.started": "2023-05-12T15:48:27.964724Z",
          "shell.execute_reply": "2023-05-12T15:48:28.005067Z"
        },
        "trusted": true,
        "id": "mnes1PVq9A0D",
        "outputId": "7483b100-e845-4408-82cd-ea39742f267f"
      },
      "execution_count": null,
      "outputs": [
        {
          "name": "stdout",
          "text": "A versão da linguagem Python usada neste projeto é a 3.10.10!\n",
          "output_type": "stream"
        }
      ],
      "id": "mnes1PVq9A0D"
    },
    {
      "cell_type": "code",
      "source": [
        "!pip install numpy"
      ],
      "metadata": {
        "execution": {
          "iopub.status.busy": "2023-05-12T15:50:14.615873Z",
          "iopub.execute_input": "2023-05-12T15:50:14.616994Z",
          "iopub.status.idle": "2023-05-12T15:50:29.710248Z",
          "shell.execute_reply.started": "2023-05-12T15:50:14.616949Z",
          "shell.execute_reply": "2023-05-12T15:50:29.708969Z"
        },
        "trusted": true,
        "id": "eTWNOtUz9A0M",
        "outputId": "58dc255f-7e80-43b9-9c3e-ddc027b4bf53"
      },
      "execution_count": null,
      "outputs": [
        {
          "name": "stdout",
          "text": "Requirement already satisfied: numpy in /opt/conda/lib/python3.10/site-packages (1.23.5)\n\u001b[33mWARNING: Running pip as the 'root' user can result in broken permissions and conflicting behaviour with the system package manager. It is recommended to use a virtual environment instead: https://pip.pypa.io/warnings/venv\u001b[0m\u001b[33m\n\u001b[0m",
          "output_type": "stream"
        }
      ],
      "id": "eTWNOtUz9A0M"
    },
    {
      "cell_type": "code",
      "source": [
        "# Verificar se o Python está funcionando\n",
        "print('Bye bye, World!')"
      ],
      "metadata": {
        "execution": {
          "iopub.status.busy": "2023-05-12T15:48:28.008107Z",
          "iopub.execute_input": "2023-05-12T15:48:28.009033Z",
          "iopub.status.idle": "2023-05-12T15:48:28.014994Z",
          "shell.execute_reply.started": "2023-05-12T15:48:28.008996Z",
          "shell.execute_reply": "2023-05-12T15:48:28.013911Z"
        },
        "trusted": true,
        "id": "UmsWjoti9A0O",
        "outputId": "ed220837-d43b-4dbf-a068-c50957b717e1"
      },
      "execution_count": null,
      "outputs": [
        {
          "name": "stdout",
          "text": "Bye bye, World!\n",
          "output_type": "stream"
        }
      ],
      "id": "UmsWjoti9A0O"
    },
    {
      "cell_type": "markdown",
      "source": [
        "---\n",
        "## 1. Bibliotecas Necessárias para o Notebook (Aula)\n",
        "\n",
        "Para este notebook, deve ser utilizada a mesma versão apresentada pelo professor da disciplina.\n",
        "\n",
        "* [`matplotlib`](https://matplotlib.org/) (versão 3.1.3 ou superior): construção e exibição de gráficos variados.\n",
        "* [`seaborn`](https://seaborn.pydata.org/) (versão 0.10.0 ou superior): construção e exibição de gráficos variados.\n",
        "* [`numpy`](https://numpy.org) (versão 1.16.2 ou superior): manipulação de dados em formato de vetores e matrizes.\n",
        "* [`pandas`](https://pandas.pydata.org/pandas-docs/stable/index.html) (versão 0.24.1 ou superior): manipulação de dados em formato de tabelas.\n",
        "\n",
        "Será utilizado o conjunto de dados que se encontra no diretório `datasets`, em formato de arquivo `.csv e/ou .txt`."
      ],
      "metadata": {
        "id": "X1uLCdYb9A0Q"
      },
      "id": "X1uLCdYb9A0Q"
    },
    {
      "cell_type": "markdown",
      "source": [
        "---\n",
        "## 2. Carregar e Exibir os Dados da Fonte\n",
        "\n",
        "Primeiro, vamos importar todas as bibliotecas que serão utilizadas no projeto."
      ],
      "metadata": {
        "id": "Y9nvL9kN9A0S"
      },
      "id": "Y9nvL9kN9A0S"
    },
    {
      "cell_type": "code",
      "source": [
        "# -*- coding: utf-8 -*-\n",
        "\n",
        "# importar a biblioteca usada para trabalhar com vetores e matrizes\n",
        "import numpy as np\n",
        "\n",
        "# importar a biblioteca usada para trabalhar com dataframes (dados em formato de tabela) e análise de dados\n",
        "import pandas as pd \n",
        "\n",
        "# importar as bibliotecas usadas para geração de gráficos\n",
        "import seaborn as sns\n",
        "import matplotlib.pyplot as plt\n",
        "\n",
        "print('Bibliotecas carregadas com sucesso!')"
      ],
      "metadata": {
        "execution": {
          "iopub.status.busy": "2023-05-12T15:50:42.722835Z",
          "iopub.execute_input": "2023-05-12T15:50:42.723310Z",
          "iopub.status.idle": "2023-05-12T15:50:42.730623Z",
          "shell.execute_reply.started": "2023-05-12T15:50:42.723270Z",
          "shell.execute_reply": "2023-05-12T15:50:42.729552Z"
        },
        "trusted": true,
        "id": "qHEwRGt79A0U",
        "outputId": "92c7c4d2-31b7-47c6-9e68-049838e3adea"
      },
      "execution_count": null,
      "outputs": [
        {
          "name": "stdout",
          "text": "Bibliotecas carregadas com sucesso!\n",
          "output_type": "stream"
        }
      ],
      "id": "qHEwRGt79A0U"
    },
    {
      "cell_type": "markdown",
      "source": [
        "### Apresentação da base de dados\n",
        "\n",
        "A base de dados Iris - que é uma flor - será usada para apresentação dos conceitos a serem estudados.\n",
        "<br>\n",
        "<br>\n",
        "<center>\n",
        "<div style=\"display:inline-block;\">\n",
        "    <div>\n",
        "    <div style=\"padding: 5px; float: left;\">\n",
        "        <img src=\"/kaggle/input/fotos-iris/iris_setosa.jpeg\" style=\"height:180px;\"/>\n",
        "        <center>Setosa</center>\n",
        "    </div>\n",
        "    <div style=\"padding: 5px; float: left;\">\n",
        "        <img src=\"/kaggle/input/fotos-iris/iris_virginica.jpeg\"  style=\"height:180px;\"/> \n",
        "        <center>Virginica</center>\n",
        "    </div>\n",
        "    <div style=\"padding: 5px; float: left;\">\n",
        "        <img src=\"/kaggle/input/fotos-iris/iris_versicolour.jpeg\"  style=\"height:180px;\"/>\n",
        "        <center>Versicolour</center>\n",
        "    </div>\n",
        "    </div>\n",
        "</div> \n",
        "</center>"
      ],
      "metadata": {
        "id": "aT-3nhYK9A0X"
      },
      "id": "aT-3nhYK9A0X"
    },
    {
      "cell_type": "markdown",
      "source": [
        "Primeiro: vamos importar os dados para o dataframe."
      ],
      "metadata": {
        "id": "SXCn4ofD9A0Z"
      },
      "id": "SXCn4ofD9A0Z"
    },
    {
      "cell_type": "code",
      "source": [
        "# importar o arquivo e guardar em um dataframe do Pandas\n",
        "df_dataset = pd.read_csv ( 'https://raw.githubusercontent.com/scadriano/lia1-2023-1/main/Aula%2007%20-%20Introdu%C3%A7%C3%A3o%20%C3%A0%20Ci%C3%AAncia%20de%20Dados%20-%20Iris%20Dataset/iris.csv', sep=',', index_col=None)\n",
        "\n",
        "print('Dados importados com sucesso!')"
      ],
      "metadata": {
        "execution": {
          "iopub.status.busy": "2023-05-12T17:00:40.582715Z",
          "iopub.execute_input": "2023-05-12T17:00:40.583997Z",
          "iopub.status.idle": "2023-05-12T17:00:40.795809Z",
          "shell.execute_reply.started": "2023-05-12T17:00:40.583948Z",
          "shell.execute_reply": "2023-05-12T17:00:40.794628Z"
        },
        "trusted": true,
        "id": "92f15uHz9A0a",
        "outputId": "4882f803-c5de-4cac-eacb-21857a6538b1"
      },
      "execution_count": null,
      "outputs": [
        {
          "name": "stdout",
          "text": "Dados importados com sucesso!\n",
          "output_type": "stream"
        }
      ],
      "id": "92f15uHz9A0a"
    },
    {
      "cell_type": "markdown",
      "source": [
        "Segundo: vamos dar uma olhada rápida na base de dados."
      ],
      "metadata": {
        "id": "tAoqbfhO9A0b"
      },
      "id": "tAoqbfhO9A0b"
    },
    {
      "cell_type": "code",
      "source": [
        "# exibir uma amostra do dataframe\n",
        "#display(df_dataset.head())\n",
        "display(df_dataset)"
      ],
      "metadata": {
        "execution": {
          "iopub.status.busy": "2023-05-12T15:48:29.239058Z",
          "iopub.execute_input": "2023-05-12T15:48:29.239836Z",
          "iopub.status.idle": "2023-05-12T15:48:29.286651Z",
          "shell.execute_reply.started": "2023-05-12T15:48:29.239788Z",
          "shell.execute_reply": "2023-05-12T15:48:29.285108Z"
        },
        "trusted": true,
        "id": "2RUIXQ_c9A0c",
        "outputId": "fa661867-1c23-4086-9da8-0b31e306fe58"
      },
      "execution_count": null,
      "outputs": [
        {
          "output_type": "display_data",
          "data": {
            "text/plain": "     id_planta  comprimento_sepala  largura_sepala  comprimento_petala  \\\n0            0                 5.1             3.5                 1.4   \n1            1                 4.9             3.0                 1.4   \n2            2                 4.7             3.2                 1.3   \n3            3                 4.6             3.1                 1.5   \n4            4                 5.0             3.6                 1.4   \n..         ...                 ...             ...                 ...   \n147        145                 6.7             3.0                 5.2   \n148        146                 6.3             2.5                 5.0   \n149        147                 6.5             3.0                 5.2   \n150        148                 6.2             3.4                 5.4   \n151        149                 5.9             3.0                 5.1   \n\n     largura_petala cidade_origem          classe  \n0               0.2     São Paulo     Iris-setosa  \n1               0.2      Sorocaba     Iris-setosa  \n2               0.2     São Paulo     Iris-setosa  \n3               0.2      Sorocaba     Iris-setosa  \n4               0.2     São Paulo     Iris-setosa  \n..              ...           ...             ...  \n147             2.3     São Paulo  Iris-virginica  \n148             1.9      Campinas  Iris-virginica  \n149             2.0      Sorocaba  Iris-virginica  \n150             2.3      Sorocaba  Iris-virginica  \n151             1.8      Campinas  Iris-virginica  \n\n[152 rows x 7 columns]",
            "text/html": "<div>\n<style scoped>\n    .dataframe tbody tr th:only-of-type {\n        vertical-align: middle;\n    }\n\n    .dataframe tbody tr th {\n        vertical-align: top;\n    }\n\n    .dataframe thead th {\n        text-align: right;\n    }\n</style>\n<table border=\"1\" class=\"dataframe\">\n  <thead>\n    <tr style=\"text-align: right;\">\n      <th></th>\n      <th>id_planta</th>\n      <th>comprimento_sepala</th>\n      <th>largura_sepala</th>\n      <th>comprimento_petala</th>\n      <th>largura_petala</th>\n      <th>cidade_origem</th>\n      <th>classe</th>\n    </tr>\n  </thead>\n  <tbody>\n    <tr>\n      <th>0</th>\n      <td>0</td>\n      <td>5.1</td>\n      <td>3.5</td>\n      <td>1.4</td>\n      <td>0.2</td>\n      <td>São Paulo</td>\n      <td>Iris-setosa</td>\n    </tr>\n    <tr>\n      <th>1</th>\n      <td>1</td>\n      <td>4.9</td>\n      <td>3.0</td>\n      <td>1.4</td>\n      <td>0.2</td>\n      <td>Sorocaba</td>\n      <td>Iris-setosa</td>\n    </tr>\n    <tr>\n      <th>2</th>\n      <td>2</td>\n      <td>4.7</td>\n      <td>3.2</td>\n      <td>1.3</td>\n      <td>0.2</td>\n      <td>São Paulo</td>\n      <td>Iris-setosa</td>\n    </tr>\n    <tr>\n      <th>3</th>\n      <td>3</td>\n      <td>4.6</td>\n      <td>3.1</td>\n      <td>1.5</td>\n      <td>0.2</td>\n      <td>Sorocaba</td>\n      <td>Iris-setosa</td>\n    </tr>\n    <tr>\n      <th>4</th>\n      <td>4</td>\n      <td>5.0</td>\n      <td>3.6</td>\n      <td>1.4</td>\n      <td>0.2</td>\n      <td>São Paulo</td>\n      <td>Iris-setosa</td>\n    </tr>\n    <tr>\n      <th>...</th>\n      <td>...</td>\n      <td>...</td>\n      <td>...</td>\n      <td>...</td>\n      <td>...</td>\n      <td>...</td>\n      <td>...</td>\n    </tr>\n    <tr>\n      <th>147</th>\n      <td>145</td>\n      <td>6.7</td>\n      <td>3.0</td>\n      <td>5.2</td>\n      <td>2.3</td>\n      <td>São Paulo</td>\n      <td>Iris-virginica</td>\n    </tr>\n    <tr>\n      <th>148</th>\n      <td>146</td>\n      <td>6.3</td>\n      <td>2.5</td>\n      <td>5.0</td>\n      <td>1.9</td>\n      <td>Campinas</td>\n      <td>Iris-virginica</td>\n    </tr>\n    <tr>\n      <th>149</th>\n      <td>147</td>\n      <td>6.5</td>\n      <td>3.0</td>\n      <td>5.2</td>\n      <td>2.0</td>\n      <td>Sorocaba</td>\n      <td>Iris-virginica</td>\n    </tr>\n    <tr>\n      <th>150</th>\n      <td>148</td>\n      <td>6.2</td>\n      <td>3.4</td>\n      <td>5.4</td>\n      <td>2.3</td>\n      <td>Sorocaba</td>\n      <td>Iris-virginica</td>\n    </tr>\n    <tr>\n      <th>151</th>\n      <td>149</td>\n      <td>5.9</td>\n      <td>3.0</td>\n      <td>5.1</td>\n      <td>1.8</td>\n      <td>Campinas</td>\n      <td>Iris-virginica</td>\n    </tr>\n  </tbody>\n</table>\n<p>152 rows × 7 columns</p>\n</div>"
          },
          "metadata": {}
        }
      ],
      "id": "2RUIXQ_c9A0c"
    },
    {
      "cell_type": "markdown",
      "source": [
        "---\n",
        "## 3. Pré-processamento\n",
        "\n",
        "Minimizar ou eliminar problemas existentes em um conjunto de dados, bem como torná-los mais adequados para sua utilização por um determinado algoritmo de aprendizagem de máquina.\n",
        "\n",
        "## 3.1 Eliminação de atributos irrelevantes\n",
        "\n",
        "O objetivo do projeto é identificar a espécie de uma flor, que é a (`classe`). Não é preciso uma análise profunda para observar que os atributos `id_planta` e `cidade_origem` não contribuem para a identificação. Portanto, em uma tarefa de aprendizado de máquina, devemos remover esses atributos, pois são irrelevantes. \n",
        "\n",
        "*Em cenários reais, muitas vezes é necessário consultar especialistas para ajudar a identificar quais atributos são irrelevantes.*"
      ],
      "metadata": {
        "id": "FEc4o2r_9A0d"
      },
      "id": "FEc4o2r_9A0d"
    },
    {
      "cell_type": "code",
      "source": [
        "# remover as colunas id_planta e cidade_origem\n",
        "df_dataset = df_dataset.drop(columns=['id_planta','cidade_origem'])\n",
        "\n",
        "# imprimir o dataframe\n",
        "display(df_dataset.head(n=10))"
      ],
      "metadata": {
        "execution": {
          "iopub.status.busy": "2023-05-12T15:48:29.288586Z",
          "iopub.execute_input": "2023-05-12T15:48:29.289006Z",
          "iopub.status.idle": "2023-05-12T15:48:29.321382Z",
          "shell.execute_reply.started": "2023-05-12T15:48:29.288969Z",
          "shell.execute_reply": "2023-05-12T15:48:29.320206Z"
        },
        "trusted": true,
        "id": "EMIhUCeE9A0e",
        "outputId": "c5a7c141-eae3-45fe-90d1-06cce829d3db"
      },
      "execution_count": null,
      "outputs": [
        {
          "output_type": "display_data",
          "data": {
            "text/plain": "   comprimento_sepala  largura_sepala  comprimento_petala  largura_petala  \\\n0                 5.1             3.5                 1.4             0.2   \n1                 4.9             3.0                 1.4             0.2   \n2                 4.7             3.2                 1.3             0.2   \n3                 4.6             3.1                 1.5             0.2   \n4                 5.0             3.6                 1.4             0.2   \n5                 5.4             3.9                 1.7             0.4   \n6                 4.6             3.4                 1.4             0.3   \n7                 5.0             3.4                 1.5             0.2   \n8                 4.4             2.9                 1.4             0.2   \n9                 4.9             3.1                 1.5             0.1   \n\n        classe  \n0  Iris-setosa  \n1  Iris-setosa  \n2  Iris-setosa  \n3  Iris-setosa  \n4  Iris-setosa  \n5  Iris-setosa  \n6  Iris-setosa  \n7  Iris-setosa  \n8  Iris-setosa  \n9  Iris-setosa  ",
            "text/html": "<div>\n<style scoped>\n    .dataframe tbody tr th:only-of-type {\n        vertical-align: middle;\n    }\n\n    .dataframe tbody tr th {\n        vertical-align: top;\n    }\n\n    .dataframe thead th {\n        text-align: right;\n    }\n</style>\n<table border=\"1\" class=\"dataframe\">\n  <thead>\n    <tr style=\"text-align: right;\">\n      <th></th>\n      <th>comprimento_sepala</th>\n      <th>largura_sepala</th>\n      <th>comprimento_petala</th>\n      <th>largura_petala</th>\n      <th>classe</th>\n    </tr>\n  </thead>\n  <tbody>\n    <tr>\n      <th>0</th>\n      <td>5.1</td>\n      <td>3.5</td>\n      <td>1.4</td>\n      <td>0.2</td>\n      <td>Iris-setosa</td>\n    </tr>\n    <tr>\n      <th>1</th>\n      <td>4.9</td>\n      <td>3.0</td>\n      <td>1.4</td>\n      <td>0.2</td>\n      <td>Iris-setosa</td>\n    </tr>\n    <tr>\n      <th>2</th>\n      <td>4.7</td>\n      <td>3.2</td>\n      <td>1.3</td>\n      <td>0.2</td>\n      <td>Iris-setosa</td>\n    </tr>\n    <tr>\n      <th>3</th>\n      <td>4.6</td>\n      <td>3.1</td>\n      <td>1.5</td>\n      <td>0.2</td>\n      <td>Iris-setosa</td>\n    </tr>\n    <tr>\n      <th>4</th>\n      <td>5.0</td>\n      <td>3.6</td>\n      <td>1.4</td>\n      <td>0.2</td>\n      <td>Iris-setosa</td>\n    </tr>\n    <tr>\n      <th>5</th>\n      <td>5.4</td>\n      <td>3.9</td>\n      <td>1.7</td>\n      <td>0.4</td>\n      <td>Iris-setosa</td>\n    </tr>\n    <tr>\n      <th>6</th>\n      <td>4.6</td>\n      <td>3.4</td>\n      <td>1.4</td>\n      <td>0.3</td>\n      <td>Iris-setosa</td>\n    </tr>\n    <tr>\n      <th>7</th>\n      <td>5.0</td>\n      <td>3.4</td>\n      <td>1.5</td>\n      <td>0.2</td>\n      <td>Iris-setosa</td>\n    </tr>\n    <tr>\n      <th>8</th>\n      <td>4.4</td>\n      <td>2.9</td>\n      <td>1.4</td>\n      <td>0.2</td>\n      <td>Iris-setosa</td>\n    </tr>\n    <tr>\n      <th>9</th>\n      <td>4.9</td>\n      <td>3.1</td>\n      <td>1.5</td>\n      <td>0.1</td>\n      <td>Iris-setosa</td>\n    </tr>\n  </tbody>\n</table>\n</div>"
          },
          "metadata": {}
        }
      ],
      "id": "EMIhUCeE9A0e"
    },
    {
      "cell_type": "markdown",
      "source": [
        "---\n",
        "## 3.2 Tratamento de atributos com valores ausentes\n",
        "\n",
        "Verificar se existem atributos com valores ausentes (NaN) na base de dados."
      ],
      "metadata": {
        "id": "ODY-1Cz29A0f"
      },
      "id": "ODY-1Cz29A0f"
    },
    {
      "cell_type": "code",
      "source": [
        "# índices das linhas que contém valores NaN\n",
        "idxRowNan = pd.isnull(df_dataset).any(axis=1).to_numpy().nonzero()\n",
        "\n",
        "# imprime apenas as linhas com valores ausentes\n",
        "display(df_dataset.iloc[idxRowNan])"
      ],
      "metadata": {
        "execution": {
          "iopub.status.busy": "2023-05-12T17:11:20.224830Z",
          "iopub.execute_input": "2023-05-12T17:11:20.225298Z",
          "iopub.status.idle": "2023-05-12T17:11:20.243362Z",
          "shell.execute_reply.started": "2023-05-12T17:11:20.225257Z",
          "shell.execute_reply": "2023-05-12T17:11:20.242127Z"
        },
        "trusted": true,
        "id": "UQF6IB-09A0f",
        "outputId": "34deedc1-5cb9-4342-f142-64697d017481"
      },
      "execution_count": null,
      "outputs": [
        {
          "output_type": "display_data",
          "data": {
            "text/plain": "    id_planta  comprimento_sepala  largura_sepala  comprimento_petala  \\\n23         23                 5.1             NaN                 1.7   \n24         24                 4.8             NaN                 1.9   \n30         30                 4.8             3.1                 NaN   \n\n    largura_petala cidade_origem       classe  \n23             0.5      Sorocaba  Iris-setosa  \n24             0.2     São Paulo  Iris-setosa  \n30             0.2      Campinas  Iris-setosa  ",
            "text/html": "<div>\n<style scoped>\n    .dataframe tbody tr th:only-of-type {\n        vertical-align: middle;\n    }\n\n    .dataframe tbody tr th {\n        vertical-align: top;\n    }\n\n    .dataframe thead th {\n        text-align: right;\n    }\n</style>\n<table border=\"1\" class=\"dataframe\">\n  <thead>\n    <tr style=\"text-align: right;\">\n      <th></th>\n      <th>id_planta</th>\n      <th>comprimento_sepala</th>\n      <th>largura_sepala</th>\n      <th>comprimento_petala</th>\n      <th>largura_petala</th>\n      <th>cidade_origem</th>\n      <th>classe</th>\n    </tr>\n  </thead>\n  <tbody>\n    <tr>\n      <th>23</th>\n      <td>23</td>\n      <td>5.1</td>\n      <td>NaN</td>\n      <td>1.7</td>\n      <td>0.5</td>\n      <td>Sorocaba</td>\n      <td>Iris-setosa</td>\n    </tr>\n    <tr>\n      <th>24</th>\n      <td>24</td>\n      <td>4.8</td>\n      <td>NaN</td>\n      <td>1.9</td>\n      <td>0.2</td>\n      <td>São Paulo</td>\n      <td>Iris-setosa</td>\n    </tr>\n    <tr>\n      <th>30</th>\n      <td>30</td>\n      <td>4.8</td>\n      <td>3.1</td>\n      <td>NaN</td>\n      <td>0.2</td>\n      <td>Campinas</td>\n      <td>Iris-setosa</td>\n    </tr>\n  </tbody>\n</table>\n</div>"
          },
          "metadata": {}
        }
      ],
      "id": "UQF6IB-09A0f"
    },
    {
      "cell_type": "markdown",
      "source": [
        "Preencher os valores - NaN - com a média dos valores conhecidos de `largura_sepala` e `comprimento_petala`, na respectiva classe. Neste caso, a classe é a mesma: `Iris-setosa`."
      ],
      "metadata": {
        "id": "z-QufnBy9A0g"
      },
      "id": "z-QufnBy9A0g"
    },
    {
      "cell_type": "code",
      "source": [
        "def trataFaltantes( df_dataset ):\n",
        "    \n",
        "    # seleciona apenas as linhas da base de dados, onde a coluna largura_sepala não contém valores nulos\n",
        "    notNull_ls = df_dataset.loc[ ~pd.isnull(df_dataset['largura_sepala']), :]\n",
        "    # seleciona apenas as linhas da base de dados, onde a coluna comprimento_petala não contém valores nulos\n",
        "    notNull_cp = df_dataset.loc[ ~pd.isnull(df_dataset['comprimento_petala']), :]\n",
        "\n",
        "    # calcula a média dos valores do atributo largura_sepala que não são nulos e que são da classe Iris-setosa \n",
        "    media_ls = notNull_ls[ notNull_ls['classe']=='Iris-setosa' ]['largura_sepala'].mean()\n",
        "    # calcula a média dos valores do atributo comprimento_sepala que não são nulos e que são da classe Iris-setosa    \n",
        "    media_cp = notNull_cp[ notNull_cp['classe']=='Iris-setosa' ]['comprimento_petala'].mean()\n",
        "\n",
        "    # substitui os valores nulos pela média\n",
        "    df_dataset.loc[ pd.isnull(df_dataset['largura_sepala']), 'largura_sepala'] = media_ls\n",
        "    # substitui os valores nulos pela média\n",
        "    df_dataset.loc[ pd.isnull(df_dataset['comprimento_petala']), 'comprimento_petala'] = media_cp\n",
        "    \n",
        "    return df_dataset\n",
        "\n",
        "trataFaltantes( df_dataset )\n",
        "    \n",
        "# imprime apenas as linhas que antes possuíam valores NaN\n",
        "print('\\nObjeto(s) com valor(es) nulo(s):')\n",
        "display(df_dataset.iloc[idxRowNan])"
      ],
      "metadata": {
        "execution": {
          "iopub.status.busy": "2023-05-12T15:48:29.342040Z",
          "iopub.execute_input": "2023-05-12T15:48:29.342816Z",
          "iopub.status.idle": "2023-05-12T15:48:29.370507Z",
          "shell.execute_reply.started": "2023-05-12T15:48:29.342780Z",
          "shell.execute_reply": "2023-05-12T15:48:29.369330Z"
        },
        "trusted": true,
        "id": "qbxy9aYW9A0h",
        "outputId": "eb9d0a32-81b0-4cc0-b08d-eb9a148568b7"
      },
      "execution_count": null,
      "outputs": [
        {
          "name": "stdout",
          "text": "\nObjeto(s) com valor(es) nulo(s):\n",
          "output_type": "stream"
        },
        {
          "output_type": "display_data",
          "data": {
            "text/plain": "    comprimento_sepala  largura_sepala  comprimento_petala  largura_petala  \\\n23                 5.1        3.416667            1.700000             0.5   \n24                 4.8        3.416667            1.900000             0.2   \n30                 4.8        3.100000            1.461224             0.2   \n\n         classe  \n23  Iris-setosa  \n24  Iris-setosa  \n30  Iris-setosa  ",
            "text/html": "<div>\n<style scoped>\n    .dataframe tbody tr th:only-of-type {\n        vertical-align: middle;\n    }\n\n    .dataframe tbody tr th {\n        vertical-align: top;\n    }\n\n    .dataframe thead th {\n        text-align: right;\n    }\n</style>\n<table border=\"1\" class=\"dataframe\">\n  <thead>\n    <tr style=\"text-align: right;\">\n      <th></th>\n      <th>comprimento_sepala</th>\n      <th>largura_sepala</th>\n      <th>comprimento_petala</th>\n      <th>largura_petala</th>\n      <th>classe</th>\n    </tr>\n  </thead>\n  <tbody>\n    <tr>\n      <th>23</th>\n      <td>5.1</td>\n      <td>3.416667</td>\n      <td>1.700000</td>\n      <td>0.5</td>\n      <td>Iris-setosa</td>\n    </tr>\n    <tr>\n      <th>24</th>\n      <td>4.8</td>\n      <td>3.416667</td>\n      <td>1.900000</td>\n      <td>0.2</td>\n      <td>Iris-setosa</td>\n    </tr>\n    <tr>\n      <th>30</th>\n      <td>4.8</td>\n      <td>3.100000</td>\n      <td>1.461224</td>\n      <td>0.2</td>\n      <td>Iris-setosa</td>\n    </tr>\n  </tbody>\n</table>\n</div>"
          },
          "metadata": {}
        }
      ],
      "id": "qbxy9aYW9A0h"
    },
    {
      "cell_type": "markdown",
      "source": [
        "---\n",
        "## 3.3 Tratamento de dados inconsistentes ou redundantes\n",
        "\n",
        "Verificar se existem dados inconsistentes ou redundantes. A forma mais comum de inconsistência é quando há registros representados por atributos com todos os valores iguais, mas com diagnóstico diferentes. A redundância é dada pela repetição de linhas na base de dados."
      ],
      "metadata": {
        "id": "fuK1v9gF9A0i"
      },
      "id": "fuK1v9gF9A0i"
    },
    {
      "cell_type": "code",
      "source": [
        "df_duplicates = df_dataset[ df_dataset.duplicated(subset=['comprimento_sepala','largura_sepala','comprimento_petala','largura_petala'],keep=False)] \n",
        "\n",
        "# se houver valores redundantes ou inconsistentes, imprima \n",
        "if len(df_duplicates) > 0:\n",
        "    print('\\nObjeto(s) redundante(s) e/ou inconsistente(s):')\n",
        "    display(df_duplicates)\n",
        "else:\n",
        "    print('Não existem objetos redundantes e/ou inconsistentes!')"
      ],
      "metadata": {
        "execution": {
          "iopub.status.busy": "2023-05-12T15:48:29.372270Z",
          "iopub.execute_input": "2023-05-12T15:48:29.373000Z",
          "iopub.status.idle": "2023-05-12T15:48:29.400705Z",
          "shell.execute_reply.started": "2023-05-12T15:48:29.372956Z",
          "shell.execute_reply": "2023-05-12T15:48:29.399528Z"
        },
        "trusted": true,
        "id": "OZdWSCcr9A0j",
        "outputId": "52934beb-457d-46c4-a118-6eec9403177b"
      },
      "execution_count": null,
      "outputs": [
        {
          "name": "stdout",
          "text": "\nObjeto(s) redundante(s) e/ou inconsistente(s):\n",
          "output_type": "stream"
        },
        {
          "output_type": "display_data",
          "data": {
            "text/plain": "     comprimento_sepala  largura_sepala  comprimento_petala  largura_petala  \\\n9                   4.9             3.1                 1.5             0.1   \n34                  4.9             3.1                 1.5             0.1   \n37                  4.9             3.1                 1.5             0.1   \n49                  5.0             3.3                 1.4             0.2   \n50                  5.0             3.3                 1.4             0.2   \n102                 5.8             2.7                 5.1             1.9   \n123                 7.7             2.8                 6.7             2.0   \n124                 7.7             2.8                 6.7             2.0   \n144                 5.8             2.7                 5.1             1.9   \n\n              classe  \n9        Iris-setosa  \n34       Iris-setosa  \n37       Iris-setosa  \n49       Iris-setosa  \n50   Iris-versicolor  \n102   Iris-virginica  \n123   Iris-virginica  \n124   Iris-virginica  \n144   Iris-virginica  ",
            "text/html": "<div>\n<style scoped>\n    .dataframe tbody tr th:only-of-type {\n        vertical-align: middle;\n    }\n\n    .dataframe tbody tr th {\n        vertical-align: top;\n    }\n\n    .dataframe thead th {\n        text-align: right;\n    }\n</style>\n<table border=\"1\" class=\"dataframe\">\n  <thead>\n    <tr style=\"text-align: right;\">\n      <th></th>\n      <th>comprimento_sepala</th>\n      <th>largura_sepala</th>\n      <th>comprimento_petala</th>\n      <th>largura_petala</th>\n      <th>classe</th>\n    </tr>\n  </thead>\n  <tbody>\n    <tr>\n      <th>9</th>\n      <td>4.9</td>\n      <td>3.1</td>\n      <td>1.5</td>\n      <td>0.1</td>\n      <td>Iris-setosa</td>\n    </tr>\n    <tr>\n      <th>34</th>\n      <td>4.9</td>\n      <td>3.1</td>\n      <td>1.5</td>\n      <td>0.1</td>\n      <td>Iris-setosa</td>\n    </tr>\n    <tr>\n      <th>37</th>\n      <td>4.9</td>\n      <td>3.1</td>\n      <td>1.5</td>\n      <td>0.1</td>\n      <td>Iris-setosa</td>\n    </tr>\n    <tr>\n      <th>49</th>\n      <td>5.0</td>\n      <td>3.3</td>\n      <td>1.4</td>\n      <td>0.2</td>\n      <td>Iris-setosa</td>\n    </tr>\n    <tr>\n      <th>50</th>\n      <td>5.0</td>\n      <td>3.3</td>\n      <td>1.4</td>\n      <td>0.2</td>\n      <td>Iris-versicolor</td>\n    </tr>\n    <tr>\n      <th>102</th>\n      <td>5.8</td>\n      <td>2.7</td>\n      <td>5.1</td>\n      <td>1.9</td>\n      <td>Iris-virginica</td>\n    </tr>\n    <tr>\n      <th>123</th>\n      <td>7.7</td>\n      <td>2.8</td>\n      <td>6.7</td>\n      <td>2.0</td>\n      <td>Iris-virginica</td>\n    </tr>\n    <tr>\n      <th>124</th>\n      <td>7.7</td>\n      <td>2.8</td>\n      <td>6.7</td>\n      <td>2.0</td>\n      <td>Iris-virginica</td>\n    </tr>\n    <tr>\n      <th>144</th>\n      <td>5.8</td>\n      <td>2.7</td>\n      <td>5.1</td>\n      <td>1.9</td>\n      <td>Iris-virginica</td>\n    </tr>\n  </tbody>\n</table>\n</div>"
          },
          "metadata": {}
        }
      ],
      "id": "OZdWSCcr9A0j"
    },
    {
      "cell_type": "markdown",
      "source": [
        "Existem objetos redundantes (duplicados) e outros inconsistentes (iguais, exceto diagnóstico distintos). \n",
        "\n",
        "Primeiro, serão removidos os registros redundantes, mantendo na base apenas o primeiro deles."
      ],
      "metadata": {
        "id": "wbExR2ka9A0k"
      },
      "id": "wbExR2ka9A0k"
    },
    {
      "cell_type": "code",
      "source": [
        "def delDuplicatas( df_dataset ):\n",
        "    \n",
        "    # remove o(s) objeto(s) duplicado(s), mantendo apenas a primeira ocorrência\n",
        "    df_dataset = df_dataset.drop_duplicates(keep = 'first')\n",
        "\n",
        "    return df_dataset\n",
        "\n",
        "df_dataset = delDuplicatas( df_dataset )"
      ],
      "metadata": {
        "execution": {
          "iopub.status.busy": "2023-05-12T15:48:29.405622Z",
          "iopub.execute_input": "2023-05-12T15:48:29.406445Z",
          "iopub.status.idle": "2023-05-12T15:48:29.414735Z",
          "shell.execute_reply.started": "2023-05-12T15:48:29.406382Z",
          "shell.execute_reply": "2023-05-12T15:48:29.413568Z"
        },
        "trusted": true,
        "id": "6NnJPr7v9A0k"
      },
      "execution_count": null,
      "outputs": [],
      "id": "6NnJPr7v9A0k"
    },
    {
      "cell_type": "markdown",
      "source": [
        "Após remover os objetos redundantes, é preciso checar se há registros inconsistentes."
      ],
      "metadata": {
        "id": "XjwT9ZX49A0l"
      },
      "id": "XjwT9ZX49A0l"
    },
    {
      "cell_type": "code",
      "source": [
        "df_duplicates = df_dataset[ df_dataset.duplicated(subset=['comprimento_sepala','largura_sepala','comprimento_petala','largura_petala'],keep=False)] \n",
        "\n",
        "# se existir objetos inconsistentes, exibir\n",
        "if len(df_duplicates)>0:\n",
        "    print('\\nObjeto(s) inconsistente(s):')\n",
        "    display(df_duplicates)\n",
        "else:\n",
        "    print('Não existem objetos redundantes e/ou inconsistentes!')\n",
        "    "
      ],
      "metadata": {
        "execution": {
          "iopub.status.busy": "2023-05-12T15:48:29.416550Z",
          "iopub.execute_input": "2023-05-12T15:48:29.417312Z",
          "iopub.status.idle": "2023-05-12T15:48:29.440834Z",
          "shell.execute_reply.started": "2023-05-12T15:48:29.417264Z",
          "shell.execute_reply": "2023-05-12T15:48:29.439859Z"
        },
        "trusted": true,
        "id": "inRL_K9r9A0l",
        "outputId": "94d52215-1fcf-4898-9f5f-9cbdea54799f"
      },
      "execution_count": null,
      "outputs": [
        {
          "name": "stdout",
          "text": "\nObjeto(s) inconsistente(s):\n",
          "output_type": "stream"
        },
        {
          "output_type": "display_data",
          "data": {
            "text/plain": "    comprimento_sepala  largura_sepala  comprimento_petala  largura_petala  \\\n49                 5.0             3.3                 1.4             0.2   \n50                 5.0             3.3                 1.4             0.2   \n\n             classe  \n49      Iris-setosa  \n50  Iris-versicolor  ",
            "text/html": "<div>\n<style scoped>\n    .dataframe tbody tr th:only-of-type {\n        vertical-align: middle;\n    }\n\n    .dataframe tbody tr th {\n        vertical-align: top;\n    }\n\n    .dataframe thead th {\n        text-align: right;\n    }\n</style>\n<table border=\"1\" class=\"dataframe\">\n  <thead>\n    <tr style=\"text-align: right;\">\n      <th></th>\n      <th>comprimento_sepala</th>\n      <th>largura_sepala</th>\n      <th>comprimento_petala</th>\n      <th>largura_petala</th>\n      <th>classe</th>\n    </tr>\n  </thead>\n  <tbody>\n    <tr>\n      <th>49</th>\n      <td>5.0</td>\n      <td>3.3</td>\n      <td>1.4</td>\n      <td>0.2</td>\n      <td>Iris-setosa</td>\n    </tr>\n    <tr>\n      <th>50</th>\n      <td>5.0</td>\n      <td>3.3</td>\n      <td>1.4</td>\n      <td>0.2</td>\n      <td>Iris-versicolor</td>\n    </tr>\n  </tbody>\n</table>\n</div>"
          },
          "metadata": {}
        }
      ],
      "id": "inRL_K9r9A0l"
    },
    {
      "cell_type": "markdown",
      "source": [
        "Existem registros inconsistentes. Nesse caso, como não é possível saber qual deles está correto. Assim, eles devem ser eliminados."
      ],
      "metadata": {
        "id": "AwEhf1xd9A0m"
      },
      "id": "AwEhf1xd9A0m"
    },
    {
      "cell_type": "code",
      "source": [
        "def delInconsistencias( df_dataset ):\n",
        "\n",
        "    df_dataset = df_dataset.drop_duplicates(subset=['comprimento_sepala','largura_sepala','comprimento_petala','largura_petala'], keep = False)    \n",
        "  \n",
        "    return df_dataset\n",
        "\n",
        "df_dataset = delInconsistencias( df_dataset )\n",
        "\n",
        "# obtém apenas as amostras onde os valores dos atributos estão duplicados\n",
        "df_duplicates = df_dataset[ df_dataset.duplicated(subset=['comprimento_sepala','largura_sepala','comprimento_petala','largura_petala'],keep=False)] \n",
        "\n",
        "# se existir registros redundantes ou inconsistentes, exibir\n",
        "if len(df_duplicates) > 0:\n",
        "    display(df_duplicates)\n",
        "else:\n",
        "    print('Não existem registros redundantes e/ou inconsistentes! :)')"
      ],
      "metadata": {
        "execution": {
          "iopub.status.busy": "2023-05-12T15:48:29.442553Z",
          "iopub.execute_input": "2023-05-12T15:48:29.443040Z",
          "iopub.status.idle": "2023-05-12T15:48:29.455595Z",
          "shell.execute_reply.started": "2023-05-12T15:48:29.442996Z",
          "shell.execute_reply": "2023-05-12T15:48:29.454487Z"
        },
        "trusted": true,
        "id": "Nfco-m4P9A0m",
        "outputId": "d2b73085-d090-4280-9397-905b9238516d"
      },
      "execution_count": null,
      "outputs": [
        {
          "name": "stdout",
          "text": "Não existem registros redundantes e/ou inconsistentes! :)\n",
          "output_type": "stream"
        }
      ],
      "id": "Nfco-m4P9A0m"
    },
    {
      "cell_type": "markdown",
      "source": [
        "---\n",
        "## 4. Análise dos Dados\n",
        "A análise das características presentes em um conjunto de dados permite a descoberta de padrões e tendências que podem fornecer informações valiosas para compreender o processo que gerou os dados."
      ],
      "metadata": {
        "id": "XGrS5ZHb9A0n"
      },
      "id": "XGrS5ZHb9A0n"
    },
    {
      "cell_type": "code",
      "source": [
        "# apresenta as principais estatísticas da base de dados para atributos numéricos\n",
        "df_detalhes = df_dataset.describe()\n",
        "\n",
        "display(df_detalhes)"
      ],
      "metadata": {
        "execution": {
          "iopub.status.busy": "2023-05-12T15:48:29.457533Z",
          "iopub.execute_input": "2023-05-12T15:48:29.458875Z",
          "iopub.status.idle": "2023-05-12T15:48:29.492615Z",
          "shell.execute_reply.started": "2023-05-12T15:48:29.458823Z",
          "shell.execute_reply": "2023-05-12T15:48:29.491349Z"
        },
        "trusted": true,
        "id": "-WoffzXE9A0n",
        "outputId": "32bd4f3e-89d7-4e79-8fca-5b683246f19e"
      },
      "execution_count": null,
      "outputs": [
        {
          "output_type": "display_data",
          "data": {
            "text/plain": "       comprimento_sepala  largura_sepala  comprimento_petala  largura_petala\ncount          146.000000      146.000000          146.000000      146.000000\nmean             5.958219        3.190639            3.795625        1.215753\nstd              1.493284        1.715087            1.755223        0.755822\nmin              4.300000        2.000000            1.000000        0.100000\n25%              5.100000        2.800000            1.600000        0.300000\n50%              5.800000        3.000000            4.400000        1.300000\n75%              6.400000        3.400000            5.100000        1.800000\nmax             20.900000       23.100000            6.900000        2.500000",
            "text/html": "<div>\n<style scoped>\n    .dataframe tbody tr th:only-of-type {\n        vertical-align: middle;\n    }\n\n    .dataframe tbody tr th {\n        vertical-align: top;\n    }\n\n    .dataframe thead th {\n        text-align: right;\n    }\n</style>\n<table border=\"1\" class=\"dataframe\">\n  <thead>\n    <tr style=\"text-align: right;\">\n      <th></th>\n      <th>comprimento_sepala</th>\n      <th>largura_sepala</th>\n      <th>comprimento_petala</th>\n      <th>largura_petala</th>\n    </tr>\n  </thead>\n  <tbody>\n    <tr>\n      <th>count</th>\n      <td>146.000000</td>\n      <td>146.000000</td>\n      <td>146.000000</td>\n      <td>146.000000</td>\n    </tr>\n    <tr>\n      <th>mean</th>\n      <td>5.958219</td>\n      <td>3.190639</td>\n      <td>3.795625</td>\n      <td>1.215753</td>\n    </tr>\n    <tr>\n      <th>std</th>\n      <td>1.493284</td>\n      <td>1.715087</td>\n      <td>1.755223</td>\n      <td>0.755822</td>\n    </tr>\n    <tr>\n      <th>min</th>\n      <td>4.300000</td>\n      <td>2.000000</td>\n      <td>1.000000</td>\n      <td>0.100000</td>\n    </tr>\n    <tr>\n      <th>25%</th>\n      <td>5.100000</td>\n      <td>2.800000</td>\n      <td>1.600000</td>\n      <td>0.300000</td>\n    </tr>\n    <tr>\n      <th>50%</th>\n      <td>5.800000</td>\n      <td>3.000000</td>\n      <td>4.400000</td>\n      <td>1.300000</td>\n    </tr>\n    <tr>\n      <th>75%</th>\n      <td>6.400000</td>\n      <td>3.400000</td>\n      <td>5.100000</td>\n      <td>1.800000</td>\n    </tr>\n    <tr>\n      <th>max</th>\n      <td>20.900000</td>\n      <td>23.100000</td>\n      <td>6.900000</td>\n      <td>2.500000</td>\n    </tr>\n  </tbody>\n</table>\n</div>"
          },
          "metadata": {}
        }
      ],
      "id": "-WoffzXE9A0n"
    },
    {
      "cell_type": "markdown",
      "source": [
        "---\n",
        "## 4.1 Detecção de outliers (valor atípico)\n",
        "Outro passo importante na análise e tratamento dos dados é a detecção de outliers (dados gerados por leituras incorretas, erros de digitação etc)."
      ],
      "metadata": {
        "id": "rKUL17kk9A0n"
      },
      "id": "rKUL17kk9A0n"
    },
    {
      "cell_type": "markdown",
      "source": [
        "`Gráfico Box Plot`\n",
        "\n",
        "Uma das maneiras mais simples de verificar se os dados contém outliers."
      ],
      "metadata": {
        "id": "xyPBCHo49A0o"
      },
      "id": "xyPBCHo49A0o"
    },
    {
      "cell_type": "code",
      "source": [
        "# gerar um bloxplot para cada atributo\n",
        "df_dataset.boxplot(figsize=(15,7))\n",
        "plt.show()"
      ],
      "metadata": {
        "execution": {
          "iopub.status.busy": "2023-05-12T15:48:29.494373Z",
          "iopub.execute_input": "2023-05-12T15:48:29.494843Z",
          "iopub.status.idle": "2023-05-12T15:48:29.854233Z",
          "shell.execute_reply.started": "2023-05-12T15:48:29.494796Z",
          "shell.execute_reply": "2023-05-12T15:48:29.853156Z"
        },
        "trusted": true,
        "id": "7A9GEQpn9A0o",
        "outputId": "3c8248cc-393c-459d-afbc-4063baa3fb47"
      },
      "execution_count": null,
      "outputs": [
        {
          "output_type": "display_data",
          "data": {
            "text/plain": "<Figure size 1500x700 with 1 Axes>",
            "image/png": "[encoded data removed]"
          },
          "metadata": {}
        }
      ],
      "id": "7A9GEQpn9A0o"
    },
    {
      "cell_type": "markdown",
      "source": [
        "O box plot está indicando que os atributos `comprimento_petala` e `largura_petala` possuem *outliers*, o que pode prejudicar o desempenho de vários métodos de aprendizado de máquina, pois tratam-se de objetos com valores de atributos incorretos."
      ],
      "metadata": {
        "id": "B49E3XYR9A0o"
      },
      "id": "B49E3XYR9A0o"
    },
    {
      "cell_type": "code",
      "source": [
        "def removeOutliers(df_dataset):\n",
        "    \"\"\"\n",
        "    Remove os outliers da base de dados \n",
        "    \"\"\"\n",
        "    \n",
        "    for atributo in df_dataset.columns[:-1]:\n",
        "\n",
        "        # obtem o terceiro e o primeiro quartil. \n",
        "        q75, q25 = np.percentile(df_dataset[atributo].values, [75 ,25])\n",
        "        \n",
        "        # calcula o IQR\n",
        "        IQR = q75 - q25\n",
        "\n",
        "        # remove os outliers com base no valor do IQR\n",
        "        df_dataset = df_dataset[ (df_dataset[atributo]<=(q75+1.5*IQR)) & (df_dataset[atributo]>=(q25-1.5*IQR)) ]\n",
        "    \n",
        "    return df_dataset\n",
        "\n",
        "# remove os outliers\n",
        "df_dataset = removeOutliers( df_dataset )\n",
        "\n",
        "# apresenta as principais estatísticas sobre a base de dados\n",
        "df_dataset.boxplot(figsize=(15,7))\n",
        "plt.show()\n"
      ],
      "metadata": {
        "execution": {
          "iopub.status.busy": "2023-05-12T15:48:29.855656Z",
          "iopub.execute_input": "2023-05-12T15:48:29.856064Z",
          "iopub.status.idle": "2023-05-12T15:48:30.167209Z",
          "shell.execute_reply.started": "2023-05-12T15:48:29.856031Z",
          "shell.execute_reply": "2023-05-12T15:48:30.165768Z"
        },
        "trusted": true,
        "id": "maECrv109A0p",
        "outputId": "8e05b331-699c-4a38-bc46-3840c79ef21d"
      },
      "execution_count": null,
      "outputs": [
        {
          "output_type": "display_data",
          "data": {
            "text/plain": "<Figure size 1500x700 with 1 Axes>",
            "image/png": "[encoded data removed]"
          },
          "metadata": {}
        }
      ],
      "id": "maECrv109A0p"
    },
    {
      "cell_type": "markdown",
      "source": [
        "Depois da remoção, o box plot e os gráficos de dispersão indicam que não há mais nenhum *outlier* na base de dados. "
      ],
      "metadata": {
        "id": "wzQFHkNY9A0q"
      },
      "id": "wzQFHkNY9A0q"
    },
    {
      "cell_type": "code",
      "source": [],
      "metadata": {
        "id": "3O-UTTnP9A0q"
      },
      "execution_count": null,
      "outputs": [],
      "id": "3O-UTTnP9A0q"
    }
  ]
}